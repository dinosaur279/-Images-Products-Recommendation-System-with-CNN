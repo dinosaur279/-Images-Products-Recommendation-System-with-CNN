{
 "cells": [
  {
   "cell_type": "code",
   "execution_count": 1,
   "id": "aec0481a",
   "metadata": {
    "_cell_guid": "b1076dfc-b9ad-4769-8c92-a6c4dae69d19",
    "_uuid": "8f2839f25d086af736a60e9eeb907d3b93b6e0e5",
    "execution": {
     "iopub.execute_input": "2022-10-07T06:56:07.425703Z",
     "iopub.status.busy": "2022-10-07T06:56:07.425247Z",
     "iopub.status.idle": "2022-10-07T06:56:14.174255Z",
     "shell.execute_reply": "2022-10-07T06:56:14.173277Z"
    },
    "papermill": {
     "duration": 6.757094,
     "end_time": "2022-10-07T06:56:14.176864",
     "exception": false,
     "start_time": "2022-10-07T06:56:07.419770",
     "status": "completed"
    },
    "tags": []
   },
   "outputs": [],
   "source": [
    "import matplotlib.pyplot as plt\n",
    "import pathlib, os, random\n",
    "import numpy as np\n",
    "import pandas as pd\n",
    "import tensorflow as tf\n",
    "from urllib.request import urlopen\n",
    "from skimage import io\n",
    "import seaborn as sns\n",
    "import requests\n",
    "import urllib\n",
    "import cv2\n",
    "from io import BytesIO\n",
    "from PIL import Image\n",
    "from os import path\n",
    "\n",
    "from tensorflow.keras.optimizers import Adam\n",
    "from tensorflow.keras.layers import Dense, Flatten, Conv2D, MaxPooling2D, Activation, BatchNormalization, Dropout\n",
    "from tensorflow.keras.preprocessing.image import ImageDataGenerator\n",
    "from tensorflow.keras import Sequential\n",
    "from sklearn.model_selection import train_test_split\n",
    "from sklearn.metrics import classification_report,confusion_matrix"
   ]
  },
  {
   "cell_type": "code",
   "execution_count": 2,
   "id": "96420cd3",
   "metadata": {
    "execution": {
     "iopub.execute_input": "2022-10-07T06:56:14.187174Z",
     "iopub.status.busy": "2022-10-07T06:56:14.184935Z",
     "iopub.status.idle": "2022-10-07T06:56:14.192074Z",
     "shell.execute_reply": "2022-10-07T06:56:14.191205Z"
    },
    "papermill": {
     "duration": 0.013443,
     "end_time": "2022-10-07T06:56:14.193987",
     "exception": false,
     "start_time": "2022-10-07T06:56:14.180544",
     "status": "completed"
    },
    "tags": []
   },
   "outputs": [],
   "source": [
    "categories = ['Baby','Home Improvement','Pet Supplies','Kitchen & Dining',\n",
    "              'Automotive','Computers','Cell Phones & Accessories',\n",
    "              'Health & Personal Care','Beauty','Grocery & Gourmet Food',\n",
    "              'Patio, Lawn & Garden','Arts, Crafts & Sewing',\n",
    "              'Musical Instruments','Home &amp; Kitchen','Clothing',\n",
    "              'Jewelry','Electronics','Camera & Photo','Watches','Shoes']"
   ]
  },
  {
   "cell_type": "code",
   "execution_count": 3,
   "id": "21a2f943",
   "metadata": {
    "execution": {
     "iopub.execute_input": "2022-10-07T06:56:14.202328Z",
     "iopub.status.busy": "2022-10-07T06:56:14.201489Z",
     "iopub.status.idle": "2022-10-07T06:56:19.385929Z",
     "shell.execute_reply": "2022-10-07T06:56:19.384929Z"
    },
    "papermill": {
     "duration": 5.191193,
     "end_time": "2022-10-07T06:56:19.388559",
     "exception": false,
     "start_time": "2022-10-07T06:56:14.197366",
     "status": "completed"
    },
    "tags": []
   },
   "outputs": [],
   "source": [
    "image_array = np.load('../input/data-amazon-product-image-250-new/image_array.npy')\n",
    "label_array = np.load('../input/data-amazon-product-image-250-new/label_array.npy')"
   ]
  },
  {
   "cell_type": "code",
   "execution_count": 4,
   "id": "38abb76e",
   "metadata": {
    "execution": {
     "iopub.execute_input": "2022-10-07T06:56:19.396552Z",
     "iopub.status.busy": "2022-10-07T06:56:19.396230Z",
     "iopub.status.idle": "2022-10-07T06:56:19.401590Z",
     "shell.execute_reply": "2022-10-07T06:56:19.400700Z"
    },
    "papermill": {
     "duration": 0.011687,
     "end_time": "2022-10-07T06:56:19.403726",
     "exception": false,
     "start_time": "2022-10-07T06:56:19.392039",
     "status": "completed"
    },
    "tags": []
   },
   "outputs": [],
   "source": [
    "# for i in label_array:\n",
    "#     (categories[i])"
   ]
  },
  {
   "cell_type": "code",
   "execution_count": 5,
   "id": "a151c305",
   "metadata": {
    "execution": {
     "iopub.execute_input": "2022-10-07T06:56:19.411090Z",
     "iopub.status.busy": "2022-10-07T06:56:19.410817Z",
     "iopub.status.idle": "2022-10-07T06:56:21.775140Z",
     "shell.execute_reply": "2022-10-07T06:56:21.773311Z"
    },
    "papermill": {
     "duration": 2.371115,
     "end_time": "2022-10-07T06:56:21.777966",
     "exception": false,
     "start_time": "2022-10-07T06:56:19.406851",
     "status": "completed"
    },
    "tags": []
   },
   "outputs": [
    {
     "name": "stdout",
     "output_type": "stream",
     "text": [
      "Number of   training samples : 3592\n",
      "Number of validation samples : 899\n",
      "Number of       test samples : 500\n"
     ]
    }
   ],
   "source": [
    "train_images, test_images, train_labels, test_labels=train_test_split(image_array, label_array,\n",
    "                                                                      test_size=0.1, random_state=42)\n",
    "train_images, val_images, train_labels, val_labels=train_test_split(train_images, train_labels,\n",
    "                                                                      test_size=0.2, random_state=42)\n",
    "\n",
    "# Normalize pixel values to be between 0 and 1\n",
    "train_images, test_images, val_images = train_images / 255.0, test_images / 255.0, val_images / 255.0\n",
    "\n",
    "print('Number of   training samples : {}'.format(train_images.shape[0]))\n",
    "print('Number of validation samples : {}'.format(val_images.shape[0]))\n",
    "print('Number of       test samples : {}'.format(test_images.shape[0]))"
   ]
  },
  {
   "cell_type": "code",
   "execution_count": 6,
   "id": "a98f4c88",
   "metadata": {
    "execution": {
     "iopub.execute_input": "2022-10-07T06:56:21.789563Z",
     "iopub.status.busy": "2022-10-07T06:56:21.789259Z",
     "iopub.status.idle": "2022-10-07T06:56:27.797328Z",
     "shell.execute_reply": "2022-10-07T06:56:27.796179Z"
    },
    "papermill": {
     "duration": 6.017046,
     "end_time": "2022-10-07T06:56:27.799981",
     "exception": false,
     "start_time": "2022-10-07T06:56:21.782935",
     "status": "completed"
    },
    "tags": []
   },
   "outputs": [
    {
     "name": "stderr",
     "output_type": "stream",
     "text": [
      "2022-10-07 06:56:21.910745: I tensorflow/stream_executor/cuda/cuda_gpu_executor.cc:937] successful NUMA node read from SysFS had negative value (-1), but there must be at least one NUMA node, so returning NUMA node zero\n",
      "2022-10-07 06:56:22.017274: I tensorflow/stream_executor/cuda/cuda_gpu_executor.cc:937] successful NUMA node read from SysFS had negative value (-1), but there must be at least one NUMA node, so returning NUMA node zero\n",
      "2022-10-07 06:56:22.018121: I tensorflow/stream_executor/cuda/cuda_gpu_executor.cc:937] successful NUMA node read from SysFS had negative value (-1), but there must be at least one NUMA node, so returning NUMA node zero\n",
      "2022-10-07 06:56:22.020297: I tensorflow/core/platform/cpu_feature_guard.cc:142] This TensorFlow binary is optimized with oneAPI Deep Neural Network Library (oneDNN) to use the following CPU instructions in performance-critical operations:  AVX2 AVX512F FMA\n",
      "To enable them in other operations, rebuild TensorFlow with the appropriate compiler flags.\n",
      "2022-10-07 06:56:22.020668: I tensorflow/stream_executor/cuda/cuda_gpu_executor.cc:937] successful NUMA node read from SysFS had negative value (-1), but there must be at least one NUMA node, so returning NUMA node zero\n",
      "2022-10-07 06:56:22.021590: I tensorflow/stream_executor/cuda/cuda_gpu_executor.cc:937] successful NUMA node read from SysFS had negative value (-1), but there must be at least one NUMA node, so returning NUMA node zero\n",
      "2022-10-07 06:56:22.022479: I tensorflow/stream_executor/cuda/cuda_gpu_executor.cc:937] successful NUMA node read from SysFS had negative value (-1), but there must be at least one NUMA node, so returning NUMA node zero\n",
      "2022-10-07 06:56:24.465400: I tensorflow/stream_executor/cuda/cuda_gpu_executor.cc:937] successful NUMA node read from SysFS had negative value (-1), but there must be at least one NUMA node, so returning NUMA node zero\n",
      "2022-10-07 06:56:24.466280: I tensorflow/stream_executor/cuda/cuda_gpu_executor.cc:937] successful NUMA node read from SysFS had negative value (-1), but there must be at least one NUMA node, so returning NUMA node zero\n",
      "2022-10-07 06:56:24.466974: I tensorflow/stream_executor/cuda/cuda_gpu_executor.cc:937] successful NUMA node read from SysFS had negative value (-1), but there must be at least one NUMA node, so returning NUMA node zero\n",
      "2022-10-07 06:56:24.467561: I tensorflow/core/common_runtime/gpu/gpu_device.cc:1510] Created device /job:localhost/replica:0/task:0/device:GPU:0 with 15401 MB memory:  -> device: 0, name: Tesla P100-PCIE-16GB, pci bus id: 0000:00:04.0, compute capability: 6.0\n"
     ]
    },
    {
     "name": "stdout",
     "output_type": "stream",
     "text": [
      "Downloading data from https://storage.googleapis.com/tensorflow/keras-applications/inception_v3/inception_v3_weights_tf_dim_ordering_tf_kernels_notop.h5\n",
      "87916544/87910968 [==============================] - 0s 0us/step\n",
      "87924736/87910968 [==============================] - 0s 0us/step\n",
      "Shape after passing inputs through base model: (None, 5, 5, 2048)\n",
      "Shape after GlobalAveragePooling2D: (None, 2048)\n",
      "Model: \"model\"\n",
      "_________________________________________________________________\n",
      "Layer (type)                 Output Shape              Param #   \n",
      "=================================================================\n",
      "input-layer (InputLayer)     [(None, 224, 224, 3)]     0         \n",
      "_________________________________________________________________\n",
      "inception_v3 (Functional)    (None, None, None, 2048)  21802784  \n",
      "_________________________________________________________________\n",
      "global_average_pooling_layer (None, 2048)              0         \n",
      "_________________________________________________________________\n",
      "output-layer (Dense)         (None, 20)                40980     \n",
      "=================================================================\n",
      "Total params: 21,843,764\n",
      "Trainable params: 40,980\n",
      "Non-trainable params: 21,802,784\n",
      "_________________________________________________________________\n"
     ]
    }
   ],
   "source": [
    "# 1. Create a base model with tf.keras.applications\n",
    "\n",
    "base_model = tf.keras.applications.InceptionV3(include_top= False)\n",
    "\n",
    "# 2. Freeze the base model\n",
    "base_model.trainable = False\n",
    "\n",
    "#3. Create inputs into models\n",
    "inputs = tf.keras.layers.Input(shape =(224,224,3), name = \"input-layer\")\n",
    "\n",
    "#4. Rescaling\n",
    "#x = tf.keras.layers.experimental.preprocessing.Rescaling(1/255.)(inputs)\n",
    "\n",
    "#5. Pass the inputs \n",
    "x = base_model(inputs)\n",
    "print(f\"Shape after passing inputs through base model: {x.shape}\")\n",
    "\n",
    "# 6. Average pool the outputs of the base model\n",
    "x = tf.keras.layers.GlobalAveragePooling2D(name = \"global_average_pooling_layer\")(x)\n",
    "print(f\"Shape after GlobalAveragePooling2D: {x.shape}\")\n",
    "\n",
    "#7. Create the output activation layer\n",
    "outputs = tf.keras.layers.Dense(20, activation = \"softmax\", name = \"output-layer\")(x)\n",
    "\n",
    "# 8. Combine the inputs with outputs into a model\n",
    "model_0 = tf.keras.Model(inputs, outputs)\n",
    "\n",
    "# 9. Compile the model\n",
    "model_0.compile(loss = tf.keras.losses.SparseCategoricalCrossentropy(from_logits=True),\n",
    "                optimizer = tf.keras.optimizers.Adam(learning_rate=0.001),\n",
    "                metrics = [\"accuracy\"])\n",
    "\n",
    "model_0.summary()"
   ]
  },
  {
   "cell_type": "code",
   "execution_count": 7,
   "id": "638625b9",
   "metadata": {
    "execution": {
     "iopub.execute_input": "2022-10-07T06:56:27.809320Z",
     "iopub.status.busy": "2022-10-07T06:56:27.809043Z",
     "iopub.status.idle": "2022-10-07T06:56:27.836884Z",
     "shell.execute_reply": "2022-10-07T06:56:27.836042Z"
    },
    "papermill": {
     "duration": 0.034765,
     "end_time": "2022-10-07T06:56:27.838944",
     "exception": false,
     "start_time": "2022-10-07T06:56:27.804179",
     "status": "completed"
    },
    "tags": []
   },
   "outputs": [],
   "source": [
    "# Freeze top layers of Base Model\n",
    "# To begin fine-tuning lets start by setting the last 10 layers as trainable\n",
    "\n",
    "base_model.trainable = True\n",
    "\n",
    "# Un-freeze last 10 layers\n",
    "for layer in base_model.layers[:-10]:\n",
    "    layer.trainable = False\n",
    "\n",
    "# Recompile (we have to compile model every time there is a change)\n",
    "model_0.compile(loss = tf.keras.losses.SparseCategoricalCrossentropy(from_logits=True),\n",
    "                optimizer = tf.keras.optimizers.Adam(learning_rate = 0.001), # when fine-tuning you typically want to lower lr by 10x\n",
    "                metrics = [\"accuracy\"] )"
   ]
  },
  {
   "cell_type": "code",
   "execution_count": 8,
   "id": "119e4699",
   "metadata": {
    "execution": {
     "iopub.execute_input": "2022-10-07T06:56:27.847857Z",
     "iopub.status.busy": "2022-10-07T06:56:27.847579Z",
     "iopub.status.idle": "2022-10-07T06:58:59.270890Z",
     "shell.execute_reply": "2022-10-07T06:58:59.269714Z"
    },
    "papermill": {
     "duration": 151.431452,
     "end_time": "2022-10-07T06:58:59.274250",
     "exception": false,
     "start_time": "2022-10-07T06:56:27.842798",
     "status": "completed"
    },
    "tags": []
   },
   "outputs": [
    {
     "name": "stderr",
     "output_type": "stream",
     "text": [
      "2022-10-07 06:56:29.334828: W tensorflow/core/framework/cpu_allocator_impl.cc:80] Allocation of 2162786304 exceeds 10% of free system memory.\n",
      "2022-10-07 06:56:31.855483: W tensorflow/core/framework/cpu_allocator_impl.cc:80] Allocation of 2162786304 exceeds 10% of free system memory.\n",
      "2022-10-07 06:56:33.739070: I tensorflow/compiler/mlir/mlir_graph_optimization_pass.cc:185] None of the MLIR Optimization Passes are enabled (registered 2)\n"
     ]
    },
    {
     "name": "stdout",
     "output_type": "stream",
     "text": [
      "Epoch 1/20\n"
     ]
    },
    {
     "name": "stderr",
     "output_type": "stream",
     "text": [
      "/opt/conda/lib/python3.7/site-packages/keras/backend.py:4907: UserWarning: \"`sparse_categorical_crossentropy` received `from_logits=True`, but the `output` argument was produced by a sigmoid or softmax activation and thus does not represent logits. Was this intended?\"\n",
      "  '\"`sparse_categorical_crossentropy` received `from_logits=True`, but '\n",
      "2022-10-07 06:56:38.320592: I tensorflow/stream_executor/cuda/cuda_dnn.cc:369] Loaded cuDNN version 8005\n"
     ]
    },
    {
     "name": "stdout",
     "output_type": "stream",
     "text": [
      "57/57 [==============================] - ETA: 0s - loss: 2.3386 - accuracy: 0.3357"
     ]
    },
    {
     "name": "stderr",
     "output_type": "stream",
     "text": [
      "2022-10-07 06:56:49.982994: W tensorflow/core/framework/cpu_allocator_impl.cc:80] Allocation of 541298688 exceeds 10% of free system memory.\n",
      "2022-10-07 06:56:50.635952: W tensorflow/core/framework/cpu_allocator_impl.cc:80] Allocation of 541298688 exceeds 10% of free system memory.\n"
     ]
    },
    {
     "name": "stdout",
     "output_type": "stream",
     "text": [
      "57/57 [==============================] - 20s 168ms/step - loss: 2.3386 - accuracy: 0.3357 - val_loss: 1.9683 - val_accuracy: 0.4427\n",
      "Epoch 2/20\n",
      "57/57 [==============================] - 6s 108ms/step - loss: 1.6593 - accuracy: 0.5053 - val_loss: 1.8506 - val_accuracy: 0.4650\n",
      "Epoch 3/20\n",
      "57/57 [==============================] - 6s 107ms/step - loss: 1.4552 - accuracy: 0.5635 - val_loss: 1.8360 - val_accuracy: 0.4572\n",
      "Epoch 4/20\n",
      "57/57 [==============================] - 6s 106ms/step - loss: 1.3288 - accuracy: 0.5910 - val_loss: 1.8051 - val_accuracy: 0.4872\n",
      "Epoch 5/20\n",
      "57/57 [==============================] - 6s 109ms/step - loss: 1.2103 - accuracy: 0.6281 - val_loss: 1.7726 - val_accuracy: 0.4939\n",
      "Epoch 6/20\n",
      "57/57 [==============================] - 6s 110ms/step - loss: 1.1042 - accuracy: 0.6623 - val_loss: 1.8061 - val_accuracy: 0.4828\n",
      "Epoch 7/20\n",
      "57/57 [==============================] - 6s 110ms/step - loss: 1.0234 - accuracy: 0.6876 - val_loss: 1.8259 - val_accuracy: 0.4750\n",
      "\n",
      "Epoch 00007: ReduceLROnPlateau reducing learning rate to 0.0003000000142492354.\n",
      "Epoch 8/20\n",
      "57/57 [==============================] - 6s 107ms/step - loss: 0.9070 - accuracy: 0.7411 - val_loss: 1.7974 - val_accuracy: 0.4961\n",
      "Epoch 9/20\n",
      "57/57 [==============================] - 6s 109ms/step - loss: 0.8780 - accuracy: 0.7556 - val_loss: 1.8098 - val_accuracy: 0.4894\n",
      "Epoch 10/20\n",
      "57/57 [==============================] - 6s 108ms/step - loss: 0.8675 - accuracy: 0.7578 - val_loss: 1.7923 - val_accuracy: 0.5006\n",
      "Epoch 11/20\n",
      "57/57 [==============================] - 6s 113ms/step - loss: 0.8455 - accuracy: 0.7645 - val_loss: 1.8098 - val_accuracy: 0.4805\n",
      "Epoch 12/20\n",
      "57/57 [==============================] - 6s 109ms/step - loss: 0.8283 - accuracy: 0.7726 - val_loss: 1.7933 - val_accuracy: 0.5017\n",
      "Epoch 13/20\n",
      "57/57 [==============================] - 6s 106ms/step - loss: 0.8075 - accuracy: 0.7840 - val_loss: 1.8149 - val_accuracy: 0.4961\n",
      "Epoch 14/20\n",
      "57/57 [==============================] - 6s 108ms/step - loss: 0.8004 - accuracy: 0.7854 - val_loss: 1.8024 - val_accuracy: 0.5072\n",
      "Epoch 15/20\n",
      "57/57 [==============================] - 6s 107ms/step - loss: 0.7779 - accuracy: 0.7957 - val_loss: 1.8067 - val_accuracy: 0.5028\n",
      "Epoch 16/20\n",
      "57/57 [==============================] - 6s 111ms/step - loss: 0.7631 - accuracy: 0.8037 - val_loss: 1.8059 - val_accuracy: 0.5050\n",
      "\n",
      "Epoch 00016: ReduceLROnPlateau reducing learning rate to 9.000000427477062e-05.\n",
      "Epoch 17/20\n",
      "57/57 [==============================] - 6s 108ms/step - loss: 0.7337 - accuracy: 0.8171 - val_loss: 1.8060 - val_accuracy: 0.4939\n",
      "Epoch 18/20\n",
      "57/57 [==============================] - 6s 110ms/step - loss: 0.7263 - accuracy: 0.8232 - val_loss: 1.8036 - val_accuracy: 0.4983\n",
      "\n",
      "Epoch 00018: ReduceLROnPlateau reducing learning rate to 2.700000040931627e-05.\n",
      "Epoch 19/20\n",
      "57/57 [==============================] - 6s 108ms/step - loss: 0.7170 - accuracy: 0.8266 - val_loss: 1.8076 - val_accuracy: 0.4972\n",
      "Epoch 20/20\n",
      "57/57 [==============================] - 6s 108ms/step - loss: 0.7146 - accuracy: 0.8282 - val_loss: 1.8082 - val_accuracy: 0.4983\n",
      "\n",
      "Epoch 00020: ReduceLROnPlateau reducing learning rate to 8.100000013655517e-06.\n"
     ]
    }
   ],
   "source": [
    "EPOCHS = 20\n",
    "from keras.callbacks import ReduceLROnPlateau\n",
    "learning_rate_reduction = ReduceLROnPlateau(monitor='val_accuracy', patience = 2, \n",
    "                                            verbose=1,factor=0.3, min_lr=0.000001)\n",
    "history = model_0.fit(train_images, train_labels, batch_size = 64 , epochs = EPOCHS, \n",
    "                    validation_data = (val_images,  val_labels) ,callbacks = [learning_rate_reduction])"
   ]
  },
  {
   "cell_type": "code",
   "execution_count": 9,
   "id": "d5a460fc",
   "metadata": {
    "execution": {
     "iopub.execute_input": "2022-10-07T06:58:59.410237Z",
     "iopub.status.busy": "2022-10-07T06:58:59.409911Z",
     "iopub.status.idle": "2022-10-07T06:59:04.511348Z",
     "shell.execute_reply": "2022-10-07T06:59:04.510385Z"
    },
    "papermill": {
     "duration": 5.169336,
     "end_time": "2022-10-07T06:59:04.513257",
     "exception": false,
     "start_time": "2022-10-07T06:58:59.343921",
     "status": "completed"
    },
    "tags": []
   },
   "outputs": [
    {
     "name": "stderr",
     "output_type": "stream",
     "text": [
      "2022-10-07 06:58:59.529761: W tensorflow/core/framework/cpu_allocator_impl.cc:80] Allocation of 301056000 exceeds 10% of free system memory.\n"
     ]
    },
    {
     "name": "stdout",
     "output_type": "stream",
     "text": [
      "16/16 [==============================] - 1s 68ms/step - loss: 1.8629 - accuracy: 0.4700\n",
      "Loss of the model is -  1.8628908395767212\n",
      "16/16 [==============================] - 1s 48ms/step - loss: 1.8629 - accuracy: 0.4700\n",
      "Accuracy of the model is -  46.99999988079071 %\n"
     ]
    }
   ],
   "source": [
    "print(\"Loss of the model is - \" , model_0.evaluate(test_images, test_labels)[0])\n",
    "print(\"Accuracy of the model is - \" , model_0.evaluate(test_images, test_labels)[1]*100 , \"%\")"
   ]
  },
  {
   "cell_type": "code",
   "execution_count": 10,
   "id": "3b85ea6e",
   "metadata": {
    "execution": {
     "iopub.execute_input": "2022-10-07T06:59:04.639304Z",
     "iopub.status.busy": "2022-10-07T06:59:04.638993Z",
     "iopub.status.idle": "2022-10-07T06:59:05.088021Z",
     "shell.execute_reply": "2022-10-07T06:59:05.087079Z"
    },
    "papermill": {
     "duration": 0.514884,
     "end_time": "2022-10-07T06:59:05.090693",
     "exception": false,
     "start_time": "2022-10-07T06:59:04.575809",
     "status": "completed"
    },
    "tags": []
   },
   "outputs": [
    {
     "data": {
      "image/png": "[encoded data removed]",
      "text/plain": [
       "<Figure size 1440x720 with 2 Axes>"
      ]
     },
     "metadata": {
      "needs_background": "light"
     },
     "output_type": "display_data"
    }
   ],
   "source": [
    "epochs = [i for i in range(EPOCHS)]\n",
    "fig , ax = plt.subplots(1,2)\n",
    "train_acc = history.history['accuracy']\n",
    "train_loss = history.history['loss']\n",
    "val_acc = history.history['val_accuracy']\n",
    "val_loss = history.history['val_loss']\n",
    "fig.set_size_inches(20,10)\n",
    "\n",
    "ax[0].plot(epochs , train_acc , 'go-' , label = 'Training Accuracy')\n",
    "ax[0].plot(epochs , val_acc , 'ro-' , label = 'Testing Accuracy')\n",
    "ax[0].set_title('Training & Testing Accuracy')\n",
    "ax[0].legend()\n",
    "ax[0].set_xlabel(\"Epochs\")\n",
    "ax[0].set_ylabel(\"Accuracy\")\n",
    "\n",
    "ax[1].plot(epochs , train_loss , 'g-o' , label = 'Training Loss')\n",
    "ax[1].plot(epochs , val_loss , 'r-o' , label = 'Testing Loss')\n",
    "ax[1].set_title('Training & Testing Loss')\n",
    "ax[1].legend()\n",
    "ax[1].set_xlabel(\"Epochs\")\n",
    "ax[1].set_ylabel(\"Loss\")\n",
    "plt.show()"
   ]
  },
  {
   "cell_type": "code",
   "execution_count": 11,
   "id": "54c050f8",
   "metadata": {
    "execution": {
     "iopub.execute_input": "2022-10-07T06:59:05.218267Z",
     "iopub.status.busy": "2022-10-07T06:59:05.217307Z",
     "iopub.status.idle": "2022-10-07T06:59:08.639723Z",
     "shell.execute_reply": "2022-10-07T06:59:08.638656Z"
    },
    "papermill": {
     "duration": 3.488293,
     "end_time": "2022-10-07T06:59:08.641896",
     "exception": false,
     "start_time": "2022-10-07T06:59:05.153603",
     "status": "completed"
    },
    "tags": []
   },
   "outputs": [
    {
     "data": {
      "text/plain": [
       "array([10, 18,  7,  6,  0,  8,  8, 19, 16, 14])"
      ]
     },
     "execution_count": 11,
     "metadata": {},
     "output_type": "execute_result"
    }
   ],
   "source": [
    "predictions = np.argmax(model_0.predict(test_images), axis=1) # this will pick the value in an array having the maximum score\n",
    "predictions[:10]"
   ]
  },
  {
   "cell_type": "code",
   "execution_count": 12,
   "id": "b107de65",
   "metadata": {
    "execution": {
     "iopub.execute_input": "2022-10-07T06:59:08.773513Z",
     "iopub.status.busy": "2022-10-07T06:59:08.773156Z",
     "iopub.status.idle": "2022-10-07T06:59:08.793289Z",
     "shell.execute_reply": "2022-10-07T06:59:08.792245Z"
    },
    "papermill": {
     "duration": 0.088154,
     "end_time": "2022-10-07T06:59:08.796052",
     "exception": false,
     "start_time": "2022-10-07T06:59:08.707898",
     "status": "completed"
    },
    "tags": []
   },
   "outputs": [
    {
     "name": "stdout",
     "output_type": "stream",
     "text": [
      "                           precision    recall  f1-score   support\n",
      "\n",
      "                     Baby       0.58      0.62      0.60        34\n",
      "         Home Improvement       0.28      0.25      0.26        28\n",
      "             Pet Supplies       0.40      0.42      0.41        24\n",
      "         Kitchen & Dining       0.25      0.25      0.25        20\n",
      "               Automotive       0.38      0.43      0.41        23\n",
      "                Computers       0.20      0.19      0.19        16\n",
      "Cell Phones & Accessories       0.59      0.76      0.67        21\n",
      "   Health & Personal Care       0.82      0.72      0.77        32\n",
      "                   Beauty       0.50      0.57      0.53        21\n",
      "   Grocery & Gourmet Food       0.62      0.67      0.65        15\n",
      "     Patio, Lawn & Garden       0.96      0.90      0.93        29\n",
      "    Arts, Crafts & Sewing       0.85      0.85      0.85        20\n",
      "      Musical Instruments       0.21      0.12      0.15        34\n",
      "       Home &amp; Kitchen       0.25      0.35      0.29        20\n",
      "                 Clothing       0.29      0.19      0.23        32\n",
      "                  Jewelry       0.22      0.29      0.25        24\n",
      "              Electronics       0.50      0.54      0.52        28\n",
      "           Camera & Photo       0.30      0.32      0.31        22\n",
      "                  Watches       0.51      0.56      0.54        34\n",
      "                    Shoes       0.48      0.43      0.45        23\n",
      "\n",
      "                 accuracy                           0.47       500\n",
      "                macro avg       0.46      0.47      0.46       500\n",
      "             weighted avg       0.47      0.47      0.47       500\n",
      "\n"
     ]
    }
   ],
   "source": [
    "print(classification_report(test_labels.astype(str), predictions.astype(str), target_names = categories))"
   ]
  },
  {
   "cell_type": "code",
   "execution_count": null,
   "id": "2391f29e",
   "metadata": {
    "papermill": {
     "duration": 0.064271,
     "end_time": "2022-10-07T06:59:08.928190",
     "exception": false,
     "start_time": "2022-10-07T06:59:08.863919",
     "status": "completed"
    },
    "tags": []
   },
   "outputs": [],
   "source": []
  }
 ],
 "metadata": {
  "kernelspec": {
   "display_name": "Python 3",
   "language": "python",
   "name": "python3"
  },
  "language_info": {
   "codemirror_mode": {
    "name": "ipython",
    "version": 3
   },
   "file_extension": ".py",
   "mimetype": "text/x-python",
   "name": "python",
   "nbconvert_exporter": "python",
   "pygments_lexer": "ipython3",
   "version": "3.7.12"
  },
  "papermill": {
   "default_parameters": {},
   "duration": 192.359971,
   "end_time": "2022-10-07T06:59:12.264165",
   "environment_variables": {},
   "exception": null,
   "input_path": "__notebook__.ipynb",
   "output_path": "__notebook__.ipynb",
   "parameters": {},
   "start_time": "2022-10-07T06:55:59.904194",
   "version": "2.3.4"
  }
 },
 "nbformat": 4,
 "nbformat_minor": 5
}
