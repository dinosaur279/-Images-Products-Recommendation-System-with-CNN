{
 "cells": [
  {
   "cell_type": "code",
   "execution_count": 1,
   "id": "183b14e4",
   "metadata": {
    "execution": {
     "iopub.execute_input": "2022-10-14T06:32:54.023426Z",
     "iopub.status.busy": "2022-10-14T06:32:54.022579Z",
     "iopub.status.idle": "2022-10-14T06:33:00.693241Z",
     "shell.execute_reply": "2022-10-14T06:33:00.692068Z"
    },
    "papermill": {
     "duration": 6.680481,
     "end_time": "2022-10-14T06:33:00.696134",
     "exception": false,
     "start_time": "2022-10-14T06:32:54.015653",
     "status": "completed"
    },
    "tags": []
   },
   "outputs": [],
   "source": [
    "import matplotlib.pyplot as plt\n",
    "import seaborn as sns\n",
    "import keras\n",
    "from keras.models import Sequential, Model\n",
    "from keras.layers import Dense, Conv2D , MaxPool2D , Flatten , Dropout , MaxPooling2D, BatchNormalization\n",
    "from sklearn.model_selection import train_test_split\n",
    "from sklearn.metrics import classification_report,confusion_matrix\n",
    "from tensorflow.keras.applications import VGG19,VGG16,ResNet50\n",
    "import cv2\n",
    "import os\n",
    "import random\n",
    "import tensorflow as tf\n",
    "import numpy as np\n",
    "import pandas as pd\n",
    "\n",
    "from tensorflow.keras.applications.imagenet_utils import preprocess_input\n",
    "from sklearn.metrics.pairwise import cosine_similarity\n",
    "from tensorflow.keras.models import load_model # to save the model\n",
    "from tensorflow.keras.models import Sequential\n",
    "from tensorflow.keras import layers, losses\n",
    "from tensorflow.random import set_seed\n",
    "import wandb\n",
    "from wandb.keras import WandbCallback\n",
    "import requests\n",
    "import urllib\n",
    "from io import BytesIO\n",
    "from PIL import Image"
   ]
  },
  {
   "cell_type": "code",
   "execution_count": 2,
   "id": "47a9ab65",
   "metadata": {
    "execution": {
     "iopub.execute_input": "2022-10-14T06:33:00.705588Z",
     "iopub.status.busy": "2022-10-14T06:33:00.703911Z",
     "iopub.status.idle": "2022-10-14T06:33:00.709926Z",
     "shell.execute_reply": "2022-10-14T06:33:00.708942Z"
    },
    "papermill": {
     "duration": 0.012421,
     "end_time": "2022-10-14T06:33:00.712039",
     "exception": false,
     "start_time": "2022-10-14T06:33:00.699618",
     "status": "completed"
    },
    "tags": []
   },
   "outputs": [],
   "source": [
    "categories = ['Baby','Home Improvement','Pet Supplies','Kitchen & Dining',\n",
    "              'Automotive','Computers','Cell Phones & Accessories',\n",
    "              'Health & Personal Care','Beauty','Grocery & Gourmet Food',\n",
    "              'Patio, Lawn & Garden','Arts, Crafts & Sewing',\n",
    "              'Musical Instruments','Home &amp; Kitchen','Clothing',\n",
    "              'Jewelry','Electronics','Camera & Photo','Watches','Shoes']"
   ]
  },
  {
   "cell_type": "code",
   "execution_count": 3,
   "id": "972d8357",
   "metadata": {
    "execution": {
     "iopub.execute_input": "2022-10-14T06:33:00.719031Z",
     "iopub.status.busy": "2022-10-14T06:33:00.718763Z",
     "iopub.status.idle": "2022-10-14T06:33:05.265704Z",
     "shell.execute_reply": "2022-10-14T06:33:05.264606Z"
    },
    "papermill": {
     "duration": 4.55366,
     "end_time": "2022-10-14T06:33:05.268634",
     "exception": false,
     "start_time": "2022-10-14T06:33:00.714974",
     "status": "completed"
    },
    "tags": []
   },
   "outputs": [],
   "source": [
    "image_array = np.load('../input/data-amazon-product-image-250-new/image_array.npy')\n",
    "label_array = np.load('../input/data-amazon-product-image-250-new/label_array.npy')"
   ]
  },
  {
   "cell_type": "code",
   "execution_count": 4,
   "id": "1ee9779c",
   "metadata": {
    "execution": {
     "iopub.execute_input": "2022-10-14T06:33:05.276687Z",
     "iopub.status.busy": "2022-10-14T06:33:05.276382Z",
     "iopub.status.idle": "2022-10-14T06:33:07.635909Z",
     "shell.execute_reply": "2022-10-14T06:33:07.634821Z"
    },
    "papermill": {
     "duration": 2.366659,
     "end_time": "2022-10-14T06:33:07.638756",
     "exception": false,
     "start_time": "2022-10-14T06:33:05.272097",
     "status": "completed"
    },
    "tags": []
   },
   "outputs": [
    {
     "name": "stdout",
     "output_type": "stream",
     "text": [
      "Number of   training samples : 3592\n",
      "Number of validation samples : 899\n",
      "Number of       test samples : 500\n"
     ]
    }
   ],
   "source": [
    "train_images, test_images, train_labels, test_labels=train_test_split(image_array, label_array,\n",
    "                                                                      test_size=0.1, random_state=42)\n",
    "train_images, val_images, train_labels, val_labels=train_test_split(train_images, train_labels,\n",
    "                                                                      test_size=0.2, random_state=42)\n",
    "\n",
    "# Normalize pixel values to be between 0 and 1\n",
    "train_images, test_images, val_images = train_images / 255.0, test_images / 255.0, val_images / 255.0\n",
    "\n",
    "print('Number of   training samples : {}'.format(train_images.shape[0]))\n",
    "print('Number of validation samples : {}'.format(val_images.shape[0]))\n",
    "print('Number of       test samples : {}'.format(test_images.shape[0]))"
   ]
  },
  {
   "cell_type": "code",
   "execution_count": 5,
   "id": "7181d114",
   "metadata": {
    "execution": {
     "iopub.execute_input": "2022-10-14T06:33:07.649003Z",
     "iopub.status.busy": "2022-10-14T06:33:07.648649Z",
     "iopub.status.idle": "2022-10-14T06:33:07.662545Z",
     "shell.execute_reply": "2022-10-14T06:33:07.661617Z"
    },
    "papermill": {
     "duration": 0.02174,
     "end_time": "2022-10-14T06:33:07.665129",
     "exception": false,
     "start_time": "2022-10-14T06:33:07.643389",
     "status": "completed"
    },
    "tags": []
   },
   "outputs": [],
   "source": [
    "BATCH_SIZE = 16\n",
    "EPOCHS = 20\n",
    "LEARNING_RATE = 0.001\n",
    "RANDOM_STATE = 42\n",
    "LOSS = tf.keras.losses.SparseCategoricalCrossentropy(from_logits=True)\n",
    "OPTIMIZER = tf.keras.optimizers.Adam(learning_rate=0.0001)\n",
    "METRICS = [\"accuracy\"]"
   ]
  },
  {
   "cell_type": "code",
   "execution_count": 6,
   "id": "29d8c62e",
   "metadata": {
    "execution": {
     "iopub.execute_input": "2022-10-14T06:33:07.675086Z",
     "iopub.status.busy": "2022-10-14T06:33:07.674762Z",
     "iopub.status.idle": "2022-10-14T06:33:12.151801Z",
     "shell.execute_reply": "2022-10-14T06:33:12.150803Z"
    },
    "papermill": {
     "duration": 4.484643,
     "end_time": "2022-10-14T06:33:12.154141",
     "exception": false,
     "start_time": "2022-10-14T06:33:07.669498",
     "status": "completed"
    },
    "tags": []
   },
   "outputs": [
    {
     "name": "stderr",
     "output_type": "stream",
     "text": [
      "2022-10-14 06:33:07.797411: I tensorflow/stream_executor/cuda/cuda_gpu_executor.cc:937] successful NUMA node read from SysFS had negative value (-1), but there must be at least one NUMA node, so returning NUMA node zero\n",
      "2022-10-14 06:33:07.900389: I tensorflow/stream_executor/cuda/cuda_gpu_executor.cc:937] successful NUMA node read from SysFS had negative value (-1), but there must be at least one NUMA node, so returning NUMA node zero\n",
      "2022-10-14 06:33:07.901220: I tensorflow/stream_executor/cuda/cuda_gpu_executor.cc:937] successful NUMA node read from SysFS had negative value (-1), but there must be at least one NUMA node, so returning NUMA node zero\n",
      "2022-10-14 06:33:07.902817: I tensorflow/core/platform/cpu_feature_guard.cc:142] This TensorFlow binary is optimized with oneAPI Deep Neural Network Library (oneDNN) to use the following CPU instructions in performance-critical operations:  AVX2 AVX512F FMA\n",
      "To enable them in other operations, rebuild TensorFlow with the appropriate compiler flags.\n",
      "2022-10-14 06:33:07.903166: I tensorflow/stream_executor/cuda/cuda_gpu_executor.cc:937] successful NUMA node read from SysFS had negative value (-1), but there must be at least one NUMA node, so returning NUMA node zero\n",
      "2022-10-14 06:33:07.903878: I tensorflow/stream_executor/cuda/cuda_gpu_executor.cc:937] successful NUMA node read from SysFS had negative value (-1), but there must be at least one NUMA node, so returning NUMA node zero\n",
      "2022-10-14 06:33:07.904527: I tensorflow/stream_executor/cuda/cuda_gpu_executor.cc:937] successful NUMA node read from SysFS had negative value (-1), but there must be at least one NUMA node, so returning NUMA node zero\n",
      "2022-10-14 06:33:10.020785: I tensorflow/stream_executor/cuda/cuda_gpu_executor.cc:937] successful NUMA node read from SysFS had negative value (-1), but there must be at least one NUMA node, so returning NUMA node zero\n",
      "2022-10-14 06:33:10.021670: I tensorflow/stream_executor/cuda/cuda_gpu_executor.cc:937] successful NUMA node read from SysFS had negative value (-1), but there must be at least one NUMA node, so returning NUMA node zero\n",
      "2022-10-14 06:33:10.022371: I tensorflow/stream_executor/cuda/cuda_gpu_executor.cc:937] successful NUMA node read from SysFS had negative value (-1), but there must be at least one NUMA node, so returning NUMA node zero\n",
      "2022-10-14 06:33:10.022956: I tensorflow/core/common_runtime/gpu/gpu_device.cc:1510] Created device /job:localhost/replica:0/task:0/device:GPU:0 with 15401 MB memory:  -> device: 0, name: Tesla P100-PCIE-16GB, pci bus id: 0000:00:04.0, compute capability: 6.0\n"
     ]
    },
    {
     "name": "stdout",
     "output_type": "stream",
     "text": [
      "Downloading data from https://storage.googleapis.com/tensorflow/keras-applications/resnet/resnet50_weights_tf_dim_ordering_tf_kernels_notop.h5\n",
      "94773248/94765736 [==============================] - 0s 0us/step\n",
      "94781440/94765736 [==============================] - 0s 0us/step\n"
     ]
    }
   ],
   "source": [
    "def get_resnet(categories):\n",
    "    conv_block = tf.keras.applications.resnet.ResNet50(include_top = False, weights = \"imagenet\")\n",
    "    output = tf.keras.layers.GlobalAveragePooling2D()(conv_block.output)\n",
    "    output = tf.keras.layers.Dense(categories, activation = \"softmax\")(output)\n",
    "    model = tf.keras.Model(inputs = [conv_block.input], outputs = [output])\n",
    "    return model\n",
    "\n",
    "model = get_resnet(len(categories))\n",
    "config_defaults = {\n",
    "  \"learning_rate\": LEARNING_RATE,\n",
    "  \"epochs\": EPOCHS,\n",
    "  \"batch_size\": BATCH_SIZE,\n",
    "  \"loss\": LOSS,\n",
    "  \"random_state\": RANDOM_STATE,\n",
    "  \"optimizer\": OPTIMIZER,\n",
    "  \"metrics\": METRICS\n",
    "}\n",
    "# wandb.init(project=\"Dataset_Classification\", id=\"resnet50\", config = config_defaults)\n",
    "model.compile(loss = LOSS, optimizer = OPTIMIZER, metrics = [\"accuracy\"])"
   ]
  },
  {
   "cell_type": "code",
   "execution_count": 7,
   "id": "df5bef24",
   "metadata": {
    "execution": {
     "iopub.execute_input": "2022-10-14T06:33:12.163511Z",
     "iopub.status.busy": "2022-10-14T06:33:12.163108Z",
     "iopub.status.idle": "2022-10-14T06:38:04.650379Z",
     "shell.execute_reply": "2022-10-14T06:38:04.649359Z"
    },
    "papermill": {
     "duration": 292.495113,
     "end_time": "2022-10-14T06:38:04.653485",
     "exception": false,
     "start_time": "2022-10-14T06:33:12.158372",
     "status": "completed"
    },
    "tags": []
   },
   "outputs": [
    {
     "name": "stderr",
     "output_type": "stream",
     "text": [
      "2022-10-14 06:33:13.617173: W tensorflow/core/framework/cpu_allocator_impl.cc:80] Allocation of 2162786304 exceeds 10% of free system memory.\n",
      "2022-10-14 06:33:16.151086: W tensorflow/core/framework/cpu_allocator_impl.cc:80] Allocation of 2162786304 exceeds 10% of free system memory.\n",
      "2022-10-14 06:33:17.883794: I tensorflow/compiler/mlir/mlir_graph_optimization_pass.cc:185] None of the MLIR Optimization Passes are enabled (registered 2)\n"
     ]
    },
    {
     "name": "stdout",
     "output_type": "stream",
     "text": [
      "Epoch 1/20\n"
     ]
    },
    {
     "name": "stderr",
     "output_type": "stream",
     "text": [
      "/opt/conda/lib/python3.7/site-packages/keras/backend.py:4907: UserWarning: \"`sparse_categorical_crossentropy` received `from_logits=True`, but the `output` argument was produced by a sigmoid or softmax activation and thus does not represent logits. Was this intended?\"\n",
      "  '\"`sparse_categorical_crossentropy` received `from_logits=True`, but '\n",
      "2022-10-14 06:33:24.055830: I tensorflow/stream_executor/cuda/cuda_dnn.cc:369] Loaded cuDNN version 8005\n"
     ]
    },
    {
     "name": "stdout",
     "output_type": "stream",
     "text": [
      "225/225 [==============================] - ETA: 0s - loss: 2.2195 - accuracy: 0.3561"
     ]
    },
    {
     "name": "stderr",
     "output_type": "stream",
     "text": [
      "2022-10-14 06:33:53.743999: W tensorflow/core/framework/cpu_allocator_impl.cc:80] Allocation of 541298688 exceeds 10% of free system memory.\n",
      "2022-10-14 06:33:54.404976: W tensorflow/core/framework/cpu_allocator_impl.cc:80] Allocation of 541298688 exceeds 10% of free system memory.\n"
     ]
    },
    {
     "name": "stdout",
     "output_type": "stream",
     "text": [
      "225/225 [==============================] - 40s 125ms/step - loss: 2.2195 - accuracy: 0.3561 - val_loss: 3.1551 - val_accuracy: 0.0545\n",
      "Epoch 2/20\n",
      "225/225 [==============================] - 25s 112ms/step - loss: 1.0397 - accuracy: 0.6968 - val_loss: 3.1628 - val_accuracy: 0.1068\n",
      "Epoch 3/20\n",
      "225/225 [==============================] - 25s 110ms/step - loss: 0.3920 - accuracy: 0.9112 - val_loss: 3.3290 - val_accuracy: 0.2981\n",
      "Epoch 4/20\n",
      "225/225 [==============================] - 24s 109ms/step - loss: 0.1059 - accuracy: 0.9875 - val_loss: 2.5084 - val_accuracy: 0.4127\n",
      "Epoch 5/20\n",
      "225/225 [==============================] - 25s 109ms/step - loss: 0.0379 - accuracy: 0.9967 - val_loss: 2.2564 - val_accuracy: 0.4872\n",
      "Epoch 6/20\n",
      "225/225 [==============================] - 25s 109ms/step - loss: 0.0290 - accuracy: 0.9955 - val_loss: 2.3060 - val_accuracy: 0.5072\n",
      "Epoch 7/20\n",
      "225/225 [==============================] - 24s 109ms/step - loss: 0.0514 - accuracy: 0.9894 - val_loss: 2.7771 - val_accuracy: 0.4483\n",
      "Epoch 8/20\n",
      "225/225 [==============================] - 24s 109ms/step - loss: 0.3119 - accuracy: 0.9065 - val_loss: 3.6257 - val_accuracy: 0.3170\n",
      "Epoch 9/20\n",
      "225/225 [==============================] - 24s 109ms/step - loss: 0.4627 - accuracy: 0.8519 - val_loss: 2.7609 - val_accuracy: 0.4082\n",
      "Epoch 10/20\n",
      "225/225 [==============================] - 24s 108ms/step - loss: 0.1243 - accuracy: 0.9685 - val_loss: 2.6916 - val_accuracy: 0.4761\n",
      "Epoch 11/20\n",
      "225/225 [==============================] - 24s 108ms/step - loss: 0.0378 - accuracy: 0.9928 - val_loss: 2.6202 - val_accuracy: 0.4739\n"
     ]
    }
   ],
   "source": [
    "history = model.fit(train_images, train_labels,\n",
    "                    validation_data = (val_images,  val_labels), \n",
    "                    batch_size = BATCH_SIZE,\n",
    "                    epochs = EPOCHS, \n",
    "                    callbacks = [tf.keras.callbacks.EarlyStopping(monitor = \"val_accuracy\", patience = 5, restore_best_weights = True)] )"
   ]
  },
  {
   "cell_type": "code",
   "execution_count": 8,
   "id": "063970b2",
   "metadata": {
    "execution": {
     "iopub.execute_input": "2022-10-14T06:38:04.976579Z",
     "iopub.status.busy": "2022-10-14T06:38:04.976203Z",
     "iopub.status.idle": "2022-10-14T06:38:10.922887Z",
     "shell.execute_reply": "2022-10-14T06:38:10.921692Z"
    },
    "papermill": {
     "duration": 6.0789,
     "end_time": "2022-10-14T06:38:10.925272",
     "exception": false,
     "start_time": "2022-10-14T06:38:04.846372",
     "status": "completed"
    },
    "tags": []
   },
   "outputs": [
    {
     "name": "stderr",
     "output_type": "stream",
     "text": [
      "2022-10-14 06:38:05.319910: W tensorflow/core/framework/cpu_allocator_impl.cc:80] Allocation of 301056000 exceeds 10% of free system memory.\n"
     ]
    },
    {
     "name": "stdout",
     "output_type": "stream",
     "text": [
      "16/16 [==============================] - 1s 72ms/step - loss: 2.4764 - accuracy: 0.5000\n",
      "Loss of the model is -  2.476379632949829\n",
      "16/16 [==============================] - 1s 56ms/step - loss: 2.4764 - accuracy: 0.5000\n",
      "Accuracy of the model is -  50.0 %\n"
     ]
    }
   ],
   "source": [
    "print(\"Loss of the model is - \" , model.evaluate(test_images, test_labels)[0])\n",
    "print(\"Accuracy of the model is - \" , model.evaluate(test_images, test_labels)[1]*100 , \"%\")"
   ]
  },
  {
   "cell_type": "code",
   "execution_count": 9,
   "id": "daf8f2a1",
   "metadata": {
    "execution": {
     "iopub.execute_input": "2022-10-14T06:38:11.244231Z",
     "iopub.status.busy": "2022-10-14T06:38:11.243873Z",
     "iopub.status.idle": "2022-10-14T06:38:11.966360Z",
     "shell.execute_reply": "2022-10-14T06:38:11.964961Z"
    },
    "papermill": {
     "duration": 0.912995,
     "end_time": "2022-10-14T06:38:11.968471",
     "exception": true,
     "start_time": "2022-10-14T06:38:11.055476",
     "status": "failed"
    },
    "tags": []
   },
   "outputs": [
    {
     "ename": "ValueError",
     "evalue": "x and y must have same first dimension, but have shapes (10,) and (11,)",
     "output_type": "error",
     "traceback": [
      "\u001b[0;31m---------------------------------------------------------------------------\u001b[0m",
      "\u001b[0;31mValueError\u001b[0m                                Traceback (most recent call last)",
      "\u001b[0;32m/tmp/ipykernel_24/2032184622.py\u001b[0m in \u001b[0;36m<module>\u001b[0;34m\u001b[0m\n\u001b[1;32m      7\u001b[0m \u001b[0mfig\u001b[0m\u001b[0;34m.\u001b[0m\u001b[0mset_size_inches\u001b[0m\u001b[0;34m(\u001b[0m\u001b[0;36m18\u001b[0m\u001b[0;34m,\u001b[0m\u001b[0;36m10\u001b[0m\u001b[0;34m)\u001b[0m\u001b[0;34m\u001b[0m\u001b[0;34m\u001b[0m\u001b[0m\n\u001b[1;32m      8\u001b[0m \u001b[0;34m\u001b[0m\u001b[0m\n\u001b[0;32m----> 9\u001b[0;31m \u001b[0max\u001b[0m\u001b[0;34m[\u001b[0m\u001b[0;36m0\u001b[0m\u001b[0;34m]\u001b[0m\u001b[0;34m.\u001b[0m\u001b[0mplot\u001b[0m\u001b[0;34m(\u001b[0m\u001b[0mepochs\u001b[0m \u001b[0;34m,\u001b[0m \u001b[0mtrain_acc\u001b[0m \u001b[0;34m,\u001b[0m \u001b[0;34m'go-'\u001b[0m \u001b[0;34m,\u001b[0m \u001b[0mlabel\u001b[0m \u001b[0;34m=\u001b[0m \u001b[0;34m'Training Accuracy'\u001b[0m\u001b[0;34m)\u001b[0m\u001b[0;34m\u001b[0m\u001b[0;34m\u001b[0m\u001b[0m\n\u001b[0m\u001b[1;32m     10\u001b[0m \u001b[0max\u001b[0m\u001b[0;34m[\u001b[0m\u001b[0;36m0\u001b[0m\u001b[0;34m]\u001b[0m\u001b[0;34m.\u001b[0m\u001b[0mplot\u001b[0m\u001b[0;34m(\u001b[0m\u001b[0mepochs\u001b[0m \u001b[0;34m,\u001b[0m \u001b[0mval_acc\u001b[0m \u001b[0;34m,\u001b[0m \u001b[0;34m'ro-'\u001b[0m \u001b[0;34m,\u001b[0m \u001b[0mlabel\u001b[0m \u001b[0;34m=\u001b[0m \u001b[0;34m'Testing Accuracy'\u001b[0m\u001b[0;34m)\u001b[0m\u001b[0;34m\u001b[0m\u001b[0;34m\u001b[0m\u001b[0m\n\u001b[1;32m     11\u001b[0m \u001b[0max\u001b[0m\u001b[0;34m[\u001b[0m\u001b[0;36m0\u001b[0m\u001b[0;34m]\u001b[0m\u001b[0;34m.\u001b[0m\u001b[0mset_title\u001b[0m\u001b[0;34m(\u001b[0m\u001b[0;34m'Training & Testing Accuracy'\u001b[0m\u001b[0;34m)\u001b[0m\u001b[0;34m\u001b[0m\u001b[0;34m\u001b[0m\u001b[0m\n",
      "\u001b[0;32m/opt/conda/lib/python3.7/site-packages/matplotlib/axes/_axes.py\u001b[0m in \u001b[0;36mplot\u001b[0;34m(self, scalex, scaley, data, *args, **kwargs)\u001b[0m\n\u001b[1;32m   1633\u001b[0m         \"\"\"\n\u001b[1;32m   1634\u001b[0m         \u001b[0mkwargs\u001b[0m \u001b[0;34m=\u001b[0m \u001b[0mcbook\u001b[0m\u001b[0;34m.\u001b[0m\u001b[0mnormalize_kwargs\u001b[0m\u001b[0;34m(\u001b[0m\u001b[0mkwargs\u001b[0m\u001b[0;34m,\u001b[0m \u001b[0mmlines\u001b[0m\u001b[0;34m.\u001b[0m\u001b[0mLine2D\u001b[0m\u001b[0;34m)\u001b[0m\u001b[0;34m\u001b[0m\u001b[0;34m\u001b[0m\u001b[0m\n\u001b[0;32m-> 1635\u001b[0;31m         \u001b[0mlines\u001b[0m \u001b[0;34m=\u001b[0m \u001b[0;34m[\u001b[0m\u001b[0;34m*\u001b[0m\u001b[0mself\u001b[0m\u001b[0;34m.\u001b[0m\u001b[0m_get_lines\u001b[0m\u001b[0;34m(\u001b[0m\u001b[0;34m*\u001b[0m\u001b[0margs\u001b[0m\u001b[0;34m,\u001b[0m \u001b[0mdata\u001b[0m\u001b[0;34m=\u001b[0m\u001b[0mdata\u001b[0m\u001b[0;34m,\u001b[0m \u001b[0;34m**\u001b[0m\u001b[0mkwargs\u001b[0m\u001b[0;34m)\u001b[0m\u001b[0;34m]\u001b[0m\u001b[0;34m\u001b[0m\u001b[0;34m\u001b[0m\u001b[0m\n\u001b[0m\u001b[1;32m   1636\u001b[0m         \u001b[0;32mfor\u001b[0m \u001b[0mline\u001b[0m \u001b[0;32min\u001b[0m \u001b[0mlines\u001b[0m\u001b[0;34m:\u001b[0m\u001b[0;34m\u001b[0m\u001b[0;34m\u001b[0m\u001b[0m\n\u001b[1;32m   1637\u001b[0m             \u001b[0mself\u001b[0m\u001b[0;34m.\u001b[0m\u001b[0madd_line\u001b[0m\u001b[0;34m(\u001b[0m\u001b[0mline\u001b[0m\u001b[0;34m)\u001b[0m\u001b[0;34m\u001b[0m\u001b[0;34m\u001b[0m\u001b[0m\n",
      "\u001b[0;32m/opt/conda/lib/python3.7/site-packages/matplotlib/axes/_base.py\u001b[0m in \u001b[0;36m__call__\u001b[0;34m(self, data, *args, **kwargs)\u001b[0m\n\u001b[1;32m    310\u001b[0m                 \u001b[0mthis\u001b[0m \u001b[0;34m+=\u001b[0m \u001b[0margs\u001b[0m\u001b[0;34m[\u001b[0m\u001b[0;36m0\u001b[0m\u001b[0;34m]\u001b[0m\u001b[0;34m,\u001b[0m\u001b[0;34m\u001b[0m\u001b[0;34m\u001b[0m\u001b[0m\n\u001b[1;32m    311\u001b[0m                 \u001b[0margs\u001b[0m \u001b[0;34m=\u001b[0m \u001b[0margs\u001b[0m\u001b[0;34m[\u001b[0m\u001b[0;36m1\u001b[0m\u001b[0;34m:\u001b[0m\u001b[0;34m]\u001b[0m\u001b[0;34m\u001b[0m\u001b[0;34m\u001b[0m\u001b[0m\n\u001b[0;32m--> 312\u001b[0;31m             \u001b[0;32myield\u001b[0m \u001b[0;32mfrom\u001b[0m \u001b[0mself\u001b[0m\u001b[0;34m.\u001b[0m\u001b[0m_plot_args\u001b[0m\u001b[0;34m(\u001b[0m\u001b[0mthis\u001b[0m\u001b[0;34m,\u001b[0m \u001b[0mkwargs\u001b[0m\u001b[0;34m)\u001b[0m\u001b[0;34m\u001b[0m\u001b[0;34m\u001b[0m\u001b[0m\n\u001b[0m\u001b[1;32m    313\u001b[0m \u001b[0;34m\u001b[0m\u001b[0m\n\u001b[1;32m    314\u001b[0m     \u001b[0;32mdef\u001b[0m \u001b[0mget_next_color\u001b[0m\u001b[0;34m(\u001b[0m\u001b[0mself\u001b[0m\u001b[0;34m)\u001b[0m\u001b[0;34m:\u001b[0m\u001b[0;34m\u001b[0m\u001b[0;34m\u001b[0m\u001b[0m\n",
      "\u001b[0;32m/opt/conda/lib/python3.7/site-packages/matplotlib/axes/_base.py\u001b[0m in \u001b[0;36m_plot_args\u001b[0;34m(self, tup, kwargs, return_kwargs)\u001b[0m\n\u001b[1;32m    496\u001b[0m \u001b[0;34m\u001b[0m\u001b[0m\n\u001b[1;32m    497\u001b[0m         \u001b[0;32mif\u001b[0m \u001b[0mx\u001b[0m\u001b[0;34m.\u001b[0m\u001b[0mshape\u001b[0m\u001b[0;34m[\u001b[0m\u001b[0;36m0\u001b[0m\u001b[0;34m]\u001b[0m \u001b[0;34m!=\u001b[0m \u001b[0my\u001b[0m\u001b[0;34m.\u001b[0m\u001b[0mshape\u001b[0m\u001b[0;34m[\u001b[0m\u001b[0;36m0\u001b[0m\u001b[0;34m]\u001b[0m\u001b[0;34m:\u001b[0m\u001b[0;34m\u001b[0m\u001b[0;34m\u001b[0m\u001b[0m\n\u001b[0;32m--> 498\u001b[0;31m             raise ValueError(f\"x and y must have same first dimension, but \"\n\u001b[0m\u001b[1;32m    499\u001b[0m                              f\"have shapes {x.shape} and {y.shape}\")\n\u001b[1;32m    500\u001b[0m         \u001b[0;32mif\u001b[0m \u001b[0mx\u001b[0m\u001b[0;34m.\u001b[0m\u001b[0mndim\u001b[0m \u001b[0;34m>\u001b[0m \u001b[0;36m2\u001b[0m \u001b[0;32mor\u001b[0m \u001b[0my\u001b[0m\u001b[0;34m.\u001b[0m\u001b[0mndim\u001b[0m \u001b[0;34m>\u001b[0m \u001b[0;36m2\u001b[0m\u001b[0;34m:\u001b[0m\u001b[0;34m\u001b[0m\u001b[0;34m\u001b[0m\u001b[0m\n",
      "\u001b[0;31mValueError\u001b[0m: x and y must have same first dimension, but have shapes (10,) and (11,)"
     ]
    },
    {
     "data": {
      "image/png": "[encoded data removed]",
      "text/plain": [
       "<Figure size 1296x720 with 2 Axes>"
      ]
     },
     "metadata": {
      "needs_background": "light"
     },
     "output_type": "display_data"
    }
   ],
   "source": [
    "epochs = [i for i in range(10)]\n",
    "fig , ax = plt.subplots(1,2)\n",
    "train_acc = history.history['accuracy']\n",
    "train_loss = history.history['loss']\n",
    "val_acc = history.history['val_accuracy']\n",
    "val_loss = history.history['val_loss']\n",
    "fig.set_size_inches(18,10)\n",
    "\n",
    "ax[0].plot(epochs , train_acc , 'go-' , label = 'Training Accuracy')\n",
    "ax[0].plot(epochs , val_acc , 'ro-' , label = 'Testing Accuracy')\n",
    "ax[0].set_title('Training & Testing Accuracy')\n",
    "ax[0].legend()\n",
    "ax[0].set_xlabel(\"Epochs\")\n",
    "ax[0].set_ylabel(\"Accuracy\")\n",
    "\n",
    "ax[1].plot(epochs , train_loss , 'g-o' , label = 'Training Loss')\n",
    "ax[1].plot(epochs , val_loss , 'r-o' , label = 'Testing Loss')\n",
    "ax[1].set_title('Training & Testing Loss')\n",
    "ax[1].legend()\n",
    "ax[1].set_xlabel(\"Epochs\")\n",
    "ax[1].set_ylabel(\"Loss\")\n",
    "plt.show()"
   ]
  },
  {
   "cell_type": "code",
   "execution_count": null,
   "id": "6131fbf9",
   "metadata": {
    "execution": {
     "iopub.execute_input": "2022-10-14T06:31:33.150493Z",
     "iopub.status.busy": "2022-10-14T06:31:33.149989Z",
     "iopub.status.idle": "2022-10-14T06:31:36.109788Z",
     "shell.execute_reply": "2022-10-14T06:31:36.108751Z",
     "shell.execute_reply.started": "2022-10-14T06:31:33.150454Z"
    },
    "papermill": {
     "duration": null,
     "end_time": null,
     "exception": null,
     "start_time": null,
     "status": "pending"
    },
    "tags": []
   },
   "outputs": [],
   "source": [
    "predictions = np.argmax(model.predict(test_images), axis=1)\n",
    "\n",
    "# now storing some properly as well as misclassified indexes'.\n",
    "i=0\n",
    "prop_class=[]\n",
    "mis_class=[]\n",
    "\n",
    "for i in range(len(categories)):\n",
    "    if(test_labels[i] == predictions[i]):\n",
    "        prop_class.append(i)\n",
    "    if(len(categories)==8):\n",
    "        break\n",
    "\n",
    "i=0\n",
    "for i in range(len(categories)):\n",
    "    if(test_labels[i] != predictions[i]):\n",
    "        mis_class.append(i)\n",
    "    if(len(mis_class)==8):\n",
    "        break"
   ]
  },
  {
   "cell_type": "code",
   "execution_count": null,
   "id": "29bb2b7a",
   "metadata": {
    "execution": {
     "iopub.execute_input": "2022-10-14T06:31:48.983591Z",
     "iopub.status.busy": "2022-10-14T06:31:48.983203Z",
     "iopub.status.idle": "2022-10-14T06:31:50.202256Z",
     "shell.execute_reply": "2022-10-14T06:31:50.201298Z",
     "shell.execute_reply.started": "2022-10-14T06:31:48.983561Z"
    },
    "papermill": {
     "duration": null,
     "end_time": null,
     "exception": null,
     "start_time": null,
     "status": "pending"
    },
    "tags": []
   },
   "outputs": [],
   "source": [
    "count=0\n",
    "fig,ax=plt.subplots(3,2)\n",
    "fig.set_size_inches(10,10)\n",
    "for i in range (3):\n",
    "    for j in range (2):\n",
    "        ax[i,j].imshow(test_images[prop_class[count]])\n",
    "        ax[i,j].set_title(\"Predicted : \"+ categories[predictions[prop_class[count]]] +\"\\n\"+\"Actual : \"+ categories[test_labels[prop_class[count]]])\n",
    "        plt.tight_layout()\n",
    "        count+=1"
   ]
  },
  {
   "cell_type": "code",
   "execution_count": null,
   "id": "d0754d98",
   "metadata": {
    "execution": {
     "iopub.execute_input": "2022-10-14T06:32:08.370151Z",
     "iopub.status.busy": "2022-10-14T06:32:08.369778Z",
     "iopub.status.idle": "2022-10-14T06:32:10.006452Z",
     "shell.execute_reply": "2022-10-14T06:32:10.005624Z",
     "shell.execute_reply.started": "2022-10-14T06:32:08.370118Z"
    },
    "papermill": {
     "duration": null,
     "end_time": null,
     "exception": null,
     "start_time": null,
     "status": "pending"
    },
    "tags": []
   },
   "outputs": [],
   "source": [
    "count=0\n",
    "fig,ax=plt.subplots(3,2)\n",
    "fig.set_size_inches(10,10)\n",
    "for i in range (3):\n",
    "    for j in range (2):\n",
    "        ax[i,j].imshow(test_images[mis_class[count]])\n",
    "        ax[i,j].set_title(\"Predicted : \"+categories[predictions[mis_class[count]]]+\"\\n\"+\"Actual : \"+categories[test_labels[mis_class[count]]])\n",
    "        plt.tight_layout()\n",
    "        count+=1"
   ]
  }
 ],
 "metadata": {
  "kernelspec": {
   "display_name": "Python 3",
   "language": "python",
   "name": "python3"
  },
  "language_info": {
   "codemirror_mode": {
    "name": "ipython",
    "version": 3
   },
   "file_extension": ".py",
   "mimetype": "text/x-python",
   "name": "python",
   "nbconvert_exporter": "python",
   "pygments_lexer": "ipython3",
   "version": "3.7.12"
  },
  "papermill": {
   "default_parameters": {},
   "duration": 329.357452,
   "end_time": "2022-10-14T06:38:15.683870",
   "environment_variables": {},
   "exception": true,
   "input_path": "__notebook__.ipynb",
   "output_path": "__notebook__.ipynb",
   "parameters": {},
   "start_time": "2022-10-14T06:32:46.326418",
   "version": "2.3.4"
  }
 },
 "nbformat": 4,
 "nbformat_minor": 5
}
