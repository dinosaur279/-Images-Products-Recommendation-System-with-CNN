{
 "cells": [
  {
   "cell_type": "code",
   "execution_count": 1,
   "id": "eb91f2ed",
   "metadata": {
    "execution": {
     "iopub.execute_input": "2022-10-05T10:59:39.378367Z",
     "iopub.status.busy": "2022-10-05T10:59:39.377872Z",
     "iopub.status.idle": "2022-10-05T10:59:41.301352Z",
     "shell.execute_reply": "2022-10-05T10:59:41.300077Z"
    },
    "papermill": {
     "duration": 1.936955,
     "end_time": "2022-10-05T10:59:41.304412",
     "exception": false,
     "start_time": "2022-10-05T10:59:39.367457",
     "status": "completed"
    },
    "tags": []
   },
   "outputs": [],
   "source": [
    "import os\n",
    "import json\n",
    "import gzip\n",
    "import pandas as pd\n",
    "import numpy as np\n",
    "import cv2\n",
    "from urllib.request import urlopen\n",
    "from skimage import io\n",
    "import matplotlib.pyplot as plt\n",
    "import seaborn as sns\n",
    "import requests\n",
    "import urllib\n",
    "import cv2\n",
    "from io import BytesIO\n",
    "from PIL import Image\n",
    "from os import path"
   ]
  },
  {
   "cell_type": "code",
   "execution_count": 2,
   "id": "bd2a1db3",
   "metadata": {
    "execution": {
     "iopub.execute_input": "2022-10-05T10:59:41.321336Z",
     "iopub.status.busy": "2022-10-05T10:59:41.320917Z",
     "iopub.status.idle": "2022-10-05T10:59:41.326076Z",
     "shell.execute_reply": "2022-10-05T10:59:41.324712Z"
    },
    "papermill": {
     "duration": 0.016321,
     "end_time": "2022-10-05T10:59:41.328522",
     "exception": false,
     "start_time": "2022-10-05T10:59:41.312201",
     "status": "completed"
    },
    "tags": []
   },
   "outputs": [],
   "source": [
    "# Đây là bộ dataset gồm 9.4 triệu sản phẩm \n",
    "# !wget http://snap.stanford.edu/data/amazon/productGraph/metadata.json.gz"
   ]
  },
  {
   "cell_type": "markdown",
   "id": "96bafbfc",
   "metadata": {
    "papermill": {
     "duration": 0.006822,
     "end_time": "2022-10-05T10:59:41.342791",
     "exception": false,
     "start_time": "2022-10-05T10:59:41.335969",
     "status": "completed"
    },
    "tags": []
   },
   "source": [
    "# **Part I** Load data và lọc lấy 1 phần nhỏ data"
   ]
  },
  {
   "cell_type": "code",
   "execution_count": 3,
   "id": "c3405f0a",
   "metadata": {
    "execution": {
     "iopub.execute_input": "2022-10-05T10:59:41.359047Z",
     "iopub.status.busy": "2022-10-05T10:59:41.358623Z",
     "iopub.status.idle": "2022-10-05T11:00:40.170960Z",
     "shell.execute_reply": "2022-10-05T11:00:40.169917Z"
    },
    "papermill": {
     "duration": 58.823472,
     "end_time": "2022-10-05T11:00:40.173656",
     "exception": false,
     "start_time": "2022-10-05T10:59:41.350184",
     "status": "completed"
    },
    "tags": []
   },
   "outputs": [
    {
     "name": "stdout",
     "output_type": "stream",
     "text": [
      "--2022-10-05 10:59:42--  http://snap.stanford.edu/data/amazon/productGraph/categoryFiles/meta_Clothing_Shoes_and_Jewelry.json.gz\r\n",
      "Resolving snap.stanford.edu (snap.stanford.edu)... 171.64.75.80\r\n",
      "Connecting to snap.stanford.edu (snap.stanford.edu)|171.64.75.80|:80... connected.\r\n",
      "HTTP request sent, awaiting response... 200 OK\r\n",
      "Length: 280989093 (268M) [application/x-gzip]\r\n",
      "Saving to: ‘meta_Clothing_Shoes_and_Jewelry.json.gz’\r\n",
      "\r\n",
      "meta_Clothing_Shoes 100%[===================>] 267.97M  51.5MB/s    in 6.2s    \r\n",
      "\r\n",
      "2022-10-05 10:59:48 (43.4 MB/s) - ‘meta_Clothing_Shoes_and_Jewelry.json.gz’ saved [280989093/280989093]\r\n",
      "\r\n",
      "--2022-10-05 10:59:49--  http://snap.stanford.edu/data/amazon/productGraph/categoryFiles/meta_Health_and_Personal_Care.json.gz\r\n",
      "Resolving snap.stanford.edu (snap.stanford.edu)... 171.64.75.80\r\n",
      "Connecting to snap.stanford.edu (snap.stanford.edu)|171.64.75.80|:80... connected.\r\n",
      "HTTP request sent, awaiting response... 200 OK\r\n",
      "Length: 117874283 (112M) [application/x-gzip]\r\n",
      "Saving to: ‘meta_Health_and_Personal_Care.json.gz’\r\n",
      "\r\n",
      "meta_Health_and_Per 100%[===================>] 112.41M  34.8MB/s    in 3.2s    \r\n",
      "\r\n",
      "2022-10-05 10:59:53 (34.8 MB/s) - ‘meta_Health_and_Personal_Care.json.gz’ saved [117874283/117874283]\r\n",
      "\r\n",
      "--2022-10-05 10:59:54--  http://snap.stanford.edu/data/amazon/productGraph/categoryFiles/meta_Camera_and_Photo.json.gz\r\n",
      "Resolving snap.stanford.edu (snap.stanford.edu)... 171.64.75.80\r\n",
      "Connecting to snap.stanford.edu (snap.stanford.edu)|171.64.75.80|:80... connected.\r\n",
      "HTTP request sent, awaiting response... 200 OK\r\n",
      "Length: 127855 (125K) [application/x-gzip]\r\n",
      "Saving to: ‘meta_Camera_and_Photo.json.gz’\r\n",
      "\r\n",
      "meta_Camera_and_Pho 100%[===================>] 124.86K  --.-KB/s    in 0.1s    \r\n",
      "\r\n",
      "2022-10-05 10:59:54 (1.15 MB/s) - ‘meta_Camera_and_Photo.json.gz’ saved [127855/127855]\r\n",
      "\r\n",
      "--2022-10-05 10:59:55--  http://snap.stanford.edu/data/amazon/productGraph/categoryFiles/meta_Baby.json.gz\r\n",
      "Resolving snap.stanford.edu (snap.stanford.edu)... 171.64.75.80\r\n",
      "Connecting to snap.stanford.edu (snap.stanford.edu)|171.64.75.80|:80... connected.\r\n",
      "HTTP request sent, awaiting response... 200 OK\r\n",
      "Length: 31328004 (30M) [application/x-gzip]\r\n",
      "Saving to: ‘meta_Baby.json.gz’\r\n",
      "\r\n",
      "meta_Baby.json.gz   100%[===================>]  29.88M  18.3MB/s    in 1.6s    \r\n",
      "\r\n",
      "2022-10-05 10:59:57 (18.3 MB/s) - ‘meta_Baby.json.gz’ saved [31328004/31328004]\r\n",
      "\r\n",
      "--2022-10-05 10:59:58--  http://snap.stanford.edu/data/amazon/productGraph/categoryFiles/meta_Home_Improvement.json.gz\r\n",
      "Resolving snap.stanford.edu (snap.stanford.edu)... 171.64.75.80\r\n",
      "Connecting to snap.stanford.edu (snap.stanford.edu)|171.64.75.80|:80... connected.\r\n",
      "HTTP request sent, awaiting response... 200 OK\r\n",
      "Length: 840106 (820K) [application/x-gzip]\r\n",
      "Saving to: ‘meta_Home_Improvement.json.gz’\r\n",
      "\r\n",
      "meta_Home_Improveme 100%[===================>] 820.42K  2.81MB/s    in 0.3s    \r\n",
      "\r\n",
      "2022-10-05 10:59:58 (2.81 MB/s) - ‘meta_Home_Improvement.json.gz’ saved [840106/840106]\r\n",
      "\r\n",
      "--2022-10-05 11:00:00--  http://snap.stanford.edu/data/amazon/productGraph/categoryFiles/meta_Patio_Lawn_and_Garden.json.gz\r\n",
      "Resolving snap.stanford.edu (snap.stanford.edu)... 171.64.75.80\r\n",
      "Connecting to snap.stanford.edu (snap.stanford.edu)|171.64.75.80|:80... connected.\r\n",
      "HTTP request sent, awaiting response... 200 OK\r\n",
      "Length: 48646653 (46M) [application/x-gzip]\r\n",
      "Saving to: ‘meta_Patio_Lawn_and_Garden.json.gz’\r\n",
      "\r\n",
      "meta_Patio_Lawn_and 100%[===================>]  46.39M  23.9MB/s    in 1.9s    \r\n",
      "\r\n",
      "2022-10-05 11:00:02 (23.9 MB/s) - ‘meta_Patio_Lawn_and_Garden.json.gz’ saved [48646653/48646653]\r\n",
      "\r\n",
      "--2022-10-05 11:00:03--  http://snap.stanford.edu/data/amazon/productGraph/categoryFiles/meta_Pet_Supplies.json.gz\r\n",
      "Resolving snap.stanford.edu (snap.stanford.edu)... 171.64.75.80\r\n",
      "Connecting to snap.stanford.edu (snap.stanford.edu)|171.64.75.80|:80... connected.\r\n",
      "HTTP request sent, awaiting response... 200 OK\r\n",
      "Length: 41048316 (39M) [application/x-gzip]\r\n",
      "Saving to: ‘meta_Pet_Supplies.json.gz’\r\n",
      "\r\n",
      "meta_Pet_Supplies.j 100%[===================>]  39.15M  22.8MB/s    in 1.7s    \r\n",
      "\r\n",
      "2022-10-05 11:00:05 (22.8 MB/s) - ‘meta_Pet_Supplies.json.gz’ saved [41048316/41048316]\r\n",
      "\r\n",
      "--2022-10-05 11:00:06--  http://snap.stanford.edu/data/amazon/productGraph/categoryFiles/meta_Home_and_Kitchen.json.gz\r\n",
      "Resolving snap.stanford.edu (snap.stanford.edu)... 171.64.75.80\r\n",
      "Connecting to snap.stanford.edu (snap.stanford.edu)|171.64.75.80|:80... connected.\r\n",
      "HTTP request sent, awaiting response... 200 OK\r\n",
      "Length: 152367034 (145M) [application/x-gzip]\r\n",
      "Saving to: ‘meta_Home_and_Kitchen.json.gz’\r\n",
      "\r\n",
      "meta_Home_and_Kitch 100%[===================>] 145.31M  45.9MB/s    in 3.7s    \r\n",
      "\r\n",
      "2022-10-05 11:00:10 (39.2 MB/s) - ‘meta_Home_and_Kitchen.json.gz’ saved [152367034/152367034]\r\n",
      "\r\n",
      "--2022-10-05 11:00:11--  http://snap.stanford.edu/data/amazon/productGraph/categoryFiles/meta_Arts_Crafts_and_Sewing.json.gz\r\n",
      "Resolving snap.stanford.edu (snap.stanford.edu)... 171.64.75.80\r\n",
      "Connecting to snap.stanford.edu (snap.stanford.edu)|171.64.75.80|:80... connected.\r\n",
      "HTTP request sent, awaiting response... 200 OK\r\n",
      "Length: 43145313 (41M) [application/x-gzip]\r\n",
      "Saving to: ‘meta_Arts_Crafts_and_Sewing.json.gz’\r\n",
      "\r\n",
      "meta_Arts_Crafts_an 100%[===================>]  41.15M  22.3MB/s    in 1.8s    \r\n",
      "\r\n",
      "2022-10-05 11:00:13 (22.3 MB/s) - ‘meta_Arts_Crafts_and_Sewing.json.gz’ saved [43145313/43145313]\r\n",
      "\r\n",
      "--2022-10-05 11:00:14--  http://snap.stanford.edu/data/amazon/productGraph/categoryFiles/meta_Kitchen_and_Dining.json.gz\r\n",
      "Resolving snap.stanford.edu (snap.stanford.edu)... 171.64.75.80\r\n",
      "Connecting to snap.stanford.edu (snap.stanford.edu)|171.64.75.80|:80... connected.\r\n",
      "HTTP request sent, awaiting response... 200 OK\r\n",
      "Length: 920289 (899K) [application/x-gzip]\r\n",
      "Saving to: ‘meta_Kitchen_and_Dining.json.gz’\r\n",
      "\r\n",
      "meta_Kitchen_and_Di 100%[===================>] 898.72K  2.85MB/s    in 0.3s    \r\n",
      "\r\n",
      "2022-10-05 11:00:14 (2.85 MB/s) - ‘meta_Kitchen_and_Dining.json.gz’ saved [920289/920289]\r\n",
      "\r\n",
      "--2022-10-05 11:00:15--  http://snap.stanford.edu/data/amazon/productGraph/categoryFiles/meta_Automotive.json.gz\r\n",
      "Resolving snap.stanford.edu (snap.stanford.edu)... 171.64.75.80\r\n",
      "Connecting to snap.stanford.edu (snap.stanford.edu)|171.64.75.80|:80... connected.\r\n",
      "HTTP request sent, awaiting response... 200 OK\r\n",
      "Length: 92016889 (88M) [application/x-gzip]\r\n",
      "Saving to: ‘meta_Automotive.json.gz’\r\n",
      "\r\n",
      "meta_Automotive.jso 100%[===================>]  87.75M  32.8MB/s    in 2.7s    \r\n",
      "\r\n",
      "2022-10-05 11:00:18 (32.8 MB/s) - ‘meta_Automotive.json.gz’ saved [92016889/92016889]\r\n",
      "\r\n",
      "--2022-10-05 11:00:19--  http://snap.stanford.edu/data/amazon/productGraph/categoryFiles/meta_Grocery_and_Gourmet_Food.json.gz\r\n",
      "Resolving snap.stanford.edu (snap.stanford.edu)... 171.64.75.80\r\n",
      "Connecting to snap.stanford.edu (snap.stanford.edu)|171.64.75.80|:80... connected.\r\n",
      "HTTP request sent, awaiting response... 200 OK\r\n",
      "Length: 54490289 (52M) [application/x-gzip]\r\n",
      "Saving to: ‘meta_Grocery_and_Gourmet_Food.json.gz’\r\n",
      "\r\n",
      "meta_Grocery_and_Go 100%[===================>]  51.97M  22.9MB/s    in 2.3s    \r\n",
      "\r\n",
      "2022-10-05 11:00:22 (22.9 MB/s) - ‘meta_Grocery_and_Gourmet_Food.json.gz’ saved [54490289/54490289]\r\n",
      "\r\n",
      "--2022-10-05 11:00:23--  http://snap.stanford.edu/data/amazon/productGraph/categoryFiles/meta_Musical_Instruments.json.gz\r\n",
      "Resolving snap.stanford.edu (snap.stanford.edu)... 171.64.75.80\r\n",
      "Connecting to snap.stanford.edu (snap.stanford.edu)|171.64.75.80|:80... connected.\r\n",
      "HTTP request sent, awaiting response... 200 OK\r\n",
      "Length: 30816870 (29M) [application/x-gzip]\r\n",
      "Saving to: ‘meta_Musical_Instruments.json.gz’\r\n",
      "\r\n",
      "meta_Musical_Instru 100%[===================>]  29.39M  17.6MB/s    in 1.7s    \r\n",
      "\r\n",
      "2022-10-05 11:00:24 (17.6 MB/s) - ‘meta_Musical_Instruments.json.gz’ saved [30816870/30816870]\r\n",
      "\r\n",
      "--2022-10-05 11:00:26--  http://snap.stanford.edu/data/amazon/productGraph/categoryFiles/meta_Beauty.json.gz\r\n",
      "Resolving snap.stanford.edu (snap.stanford.edu)... 171.64.75.80\r\n",
      "Connecting to snap.stanford.edu (snap.stanford.edu)|171.64.75.80|:80... connected.\r\n",
      "HTTP request sent, awaiting response... 200 OK\r\n",
      "Length: 99156148 (95M) [application/x-gzip]\r\n",
      "Saving to: ‘meta_Beauty.json.gz’\r\n",
      "\r\n",
      "meta_Beauty.json.gz 100%[===================>]  94.56M  37.4MB/s    in 2.5s    \r\n",
      "\r\n",
      "2022-10-05 11:00:28 (37.4 MB/s) - ‘meta_Beauty.json.gz’ saved [99156148/99156148]\r\n",
      "\r\n",
      "--2022-10-05 11:00:29--  http://snap.stanford.edu/data/amazon/productGraph/categoryFiles/meta_Electronics.json.gz\r\n",
      "Resolving snap.stanford.edu (snap.stanford.edu)... 171.64.75.80\r\n",
      "Connecting to snap.stanford.edu (snap.stanford.edu)|171.64.75.80|:80... connected.\r\n",
      "HTTP request sent, awaiting response... 200 OK\r\n",
      "Length: 186594679 (178M) [application/x-gzip]\r\n",
      "Saving to: ‘meta_Electronics.json.gz’\r\n",
      "\r\n",
      "meta_Electronics.js 100%[===================>] 177.95M  51.3MB/s    in 4.5s    \r\n",
      "\r\n",
      "2022-10-05 11:00:34 (39.8 MB/s) - ‘meta_Electronics.json.gz’ saved [186594679/186594679]\r\n",
      "\r\n",
      "--2022-10-05 11:00:35--  http://snap.stanford.edu/data/amazon/productGraph/categoryFiles/meta_Computers.json.gz\r\n",
      "Resolving snap.stanford.edu (snap.stanford.edu)... 171.64.75.80\r\n",
      "Connecting to snap.stanford.edu (snap.stanford.edu)|171.64.75.80|:80... connected.\r\n",
      "HTTP request sent, awaiting response... 200 OK\r\n",
      "Length: 1055209 (1.0M) [application/x-gzip]\r\n",
      "Saving to: ‘meta_Computers.json.gz’\r\n",
      "\r\n",
      "meta_Computers.json 100%[===================>]   1.01M  3.14MB/s    in 0.3s    \r\n",
      "\r\n",
      "2022-10-05 11:00:35 (3.14 MB/s) - ‘meta_Computers.json.gz’ saved [1055209/1055209]\r\n",
      "\r\n",
      "--2022-10-05 11:00:37--  http://snap.stanford.edu/data/amazon/productGraph/categoryFiles/meta_Cell_Phones_and_Accessories.json.gz\r\n",
      "Resolving snap.stanford.edu (snap.stanford.edu)... 171.64.75.80\r\n",
      "Connecting to snap.stanford.edu (snap.stanford.edu)|171.64.75.80|:80... connected.\r\n",
      "HTTP request sent, awaiting response... 200 OK\r\n",
      "Length: 93960947 (90M) [application/x-gzip]\r\n",
      "Saving to: ‘meta_Cell_Phones_and_Accessories.json.gz’\r\n",
      "\r\n",
      "meta_Cell_Phones_an 100%[===================>]  89.61M  31.2MB/s    in 2.9s    \r\n",
      "\r\n",
      "2022-10-05 11:00:40 (31.2 MB/s) - ‘meta_Cell_Phones_and_Accessories.json.gz’ saved [93960947/93960947]\r\n",
      "\r\n"
     ]
    }
   ],
   "source": [
    "!wget http://snap.stanford.edu/data/amazon/productGraph/categoryFiles/meta_Clothing_Shoes_and_Jewelry.json.gz\n",
    "!wget http://snap.stanford.edu/data/amazon/productGraph/categoryFiles/meta_Health_and_Personal_Care.json.gz\n",
    "!wget http://snap.stanford.edu/data/amazon/productGraph/categoryFiles/meta_Camera_and_Photo.json.gz\n",
    "!wget http://snap.stanford.edu/data/amazon/productGraph/categoryFiles/meta_Baby.json.gz\n",
    "!wget http://snap.stanford.edu/data/amazon/productGraph/categoryFiles/meta_Home_Improvement.json.gz\n",
    "!wget http://snap.stanford.edu/data/amazon/productGraph/categoryFiles/meta_Patio_Lawn_and_Garden.json.gz\n",
    "!wget http://snap.stanford.edu/data/amazon/productGraph/categoryFiles/meta_Pet_Supplies.json.gz\n",
    "!wget http://snap.stanford.edu/data/amazon/productGraph/categoryFiles/meta_Home_and_Kitchen.json.gz\n",
    "!wget http://snap.stanford.edu/data/amazon/productGraph/categoryFiles/meta_Arts_Crafts_and_Sewing.json.gz\n",
    "!wget http://snap.stanford.edu/data/amazon/productGraph/categoryFiles/meta_Kitchen_and_Dining.json.gz\n",
    "!wget http://snap.stanford.edu/data/amazon/productGraph/categoryFiles/meta_Automotive.json.gz\n",
    "# Jewelry\n",
    "!wget http://snap.stanford.edu/data/amazon/productGraph/categoryFiles/meta_Grocery_and_Gourmet_Food.json.gz\n",
    "!wget http://snap.stanford.edu/data/amazon/productGraph/categoryFiles/meta_Musical_Instruments.json.gz\n",
    "# Watches\n",
    "!wget http://snap.stanford.edu/data/amazon/productGraph/categoryFiles/meta_Beauty.json.gz\n",
    "# Shoes\n",
    "!wget http://snap.stanford.edu/data/amazon/productGraph/categoryFiles/meta_Electronics.json.gz\n",
    "!wget http://snap.stanford.edu/data/amazon/productGraph/categoryFiles/meta_Computers.json.gz\n",
    "!wget http://snap.stanford.edu/data/amazon/productGraph/categoryFiles/meta_Cell_Phones_and_Accessories.json.gz"
   ]
  },
  {
   "cell_type": "code",
   "execution_count": 4,
   "id": "460b35b7",
   "metadata": {
    "execution": {
     "iopub.execute_input": "2022-10-05T11:00:40.220518Z",
     "iopub.status.busy": "2022-10-05T11:00:40.220036Z",
     "iopub.status.idle": "2022-10-05T11:00:40.228111Z",
     "shell.execute_reply": "2022-10-05T11:00:40.226939Z"
    },
    "papermill": {
     "duration": 0.034758,
     "end_time": "2022-10-05T11:00:40.230295",
     "exception": false,
     "start_time": "2022-10-05T11:00:40.195537",
     "status": "completed"
    },
    "tags": []
   },
   "outputs": [],
   "source": [
    "def parse(path):\n",
    "    g = gzip.open(path, 'rb')\n",
    "    for l in g:\n",
    "        yield eval(l)\n",
    "\n",
    "def getDF(path):\n",
    "    i = 0\n",
    "    df = {}\n",
    "    for d in parse(path):\n",
    "        df[i] = d\n",
    "        i += 1\n",
    "        if i == 10000: break\n",
    "    return pd.DataFrame.from_dict(df, orient='index')"
   ]
  },
  {
   "cell_type": "code",
   "execution_count": 5,
   "id": "c74bdf21",
   "metadata": {
    "execution": {
     "iopub.execute_input": "2022-10-05T11:00:40.276084Z",
     "iopub.status.busy": "2022-10-05T11:00:40.275671Z",
     "iopub.status.idle": "2022-10-05T11:00:58.467478Z",
     "shell.execute_reply": "2022-10-05T11:00:58.466186Z"
    },
    "papermill": {
     "duration": 18.217875,
     "end_time": "2022-10-05T11:00:58.470104",
     "exception": false,
     "start_time": "2022-10-05T11:00:40.252229",
     "status": "completed"
    },
    "tags": []
   },
   "outputs": [],
   "source": [
    "df_1 = getDF('meta_Health_and_Personal_Care.json.gz')\n",
    "df_2 = getDF('meta_Camera_and_Photo.json.gz')\n",
    "df_3 = getDF('meta_Baby.json.gz')\n",
    "df_4 = getDF('meta_Home_Improvement.json.gz')\n",
    "df_5 = getDF('meta_Patio_Lawn_and_Garden.json.gz')\n",
    "df_6 = getDF('meta_Pet_Supplies.json.gz')\n",
    "df_7 = getDF('meta_Home_and_Kitchen.json.gz')\n",
    "df_8 = getDF('meta_Arts_Crafts_and_Sewing.json.gz')\n",
    "df_9 = getDF('meta_Kitchen_and_Dining.json.gz')\n",
    "df_10 = getDF('meta_Automotive.json.gz')\n",
    "df_11 = getDF('meta_Grocery_and_Gourmet_Food.json.gz')\n",
    "df_12 = getDF('meta_Musical_Instruments.json.gz')\n",
    "df_13 = getDF('meta_Beauty.json.gz')\n",
    "df_14 = getDF('meta_Electronics.json.gz')\n",
    "df_15 = getDF('meta_Computers.json.gz')\n",
    "df_16 = getDF('meta_Cell_Phones_and_Accessories.json.gz')\n",
    "df_17 = getDF('meta_Clothing_Shoes_and_Jewelry.json.gz')"
   ]
  },
  {
   "cell_type": "code",
   "execution_count": 6,
   "id": "882cba2b",
   "metadata": {
    "execution": {
     "iopub.execute_input": "2022-10-05T11:00:58.516630Z",
     "iopub.status.busy": "2022-10-05T11:00:58.515643Z",
     "iopub.status.idle": "2022-10-05T11:00:58.702015Z",
     "shell.execute_reply": "2022-10-05T11:00:58.700788Z"
    },
    "papermill": {
     "duration": 0.212349,
     "end_time": "2022-10-05T11:00:58.704988",
     "exception": false,
     "start_time": "2022-10-05T11:00:58.492639",
     "status": "completed"
    },
    "tags": []
   },
   "outputs": [],
   "source": [
    "# Gán lại giá trị categories cho đồng bộ\n",
    "df_1.categories = 'Health & Personal Care'\n",
    "df_2.categories = 'Camera & Photo'\n",
    "df_3.categories = 'Baby'\n",
    "df_4.categories = 'Home Improvement'\n",
    "df_5.categories = 'Patio, Lawn & Garden'\n",
    "df_6.categories = 'Pet Supplies'\n",
    "df_7.categories = 'Home & Kitchen'\n",
    "df_8.categories = 'Arts, Crafts & Sewing'\n",
    "df_9.categories = 'Kitchen & Dining'\n",
    "df_10.categories = 'Automotive'\n",
    "df_11.categories = 'Grocery & Gourmet Food'\n",
    "df_12.categories = 'Musical Instruments'\n",
    "df_13.categories = 'Beauty'\n",
    "df_14.categories = 'Electronics'\n",
    "df_15.categories = 'Computers'\n",
    "df_16.categories = 'Cell Phones & Accessories'\n",
    "\n",
    "# Data cần lọc lại 1 lần nữa\n",
    "raw_data_1 = pd.concat([df_1,df_2,df_5,df_7,df_8,\n",
    "                      df_11,df_12,df_13,df_14,df_17])\n",
    "\n",
    "# Gán lại giá trị categories cho đồng bộ\n",
    "raw_data_2 = pd.concat([df_3,df_4,df_6,df_9,df_10,df_15,df_16])[['categories', 'imUrl','price','asin','description','title']]"
   ]
  },
  {
   "cell_type": "code",
   "execution_count": 7,
   "id": "cad9d757",
   "metadata": {
    "execution": {
     "iopub.execute_input": "2022-10-05T11:00:58.749679Z",
     "iopub.status.busy": "2022-10-05T11:00:58.749288Z",
     "iopub.status.idle": "2022-10-05T11:00:58.786272Z",
     "shell.execute_reply": "2022-10-05T11:00:58.784856Z"
    },
    "papermill": {
     "duration": 0.062214,
     "end_time": "2022-10-05T11:00:58.788704",
     "exception": false,
     "start_time": "2022-10-05T11:00:58.726490",
     "status": "completed"
    },
    "tags": []
   },
   "outputs": [
    {
     "data": {
      "text/html": [
       "<div>\n",
       "<style scoped>\n",
       "    .dataframe tbody tr th:only-of-type {\n",
       "        vertical-align: middle;\n",
       "    }\n",
       "\n",
       "    .dataframe tbody tr th {\n",
       "        vertical-align: top;\n",
       "    }\n",
       "\n",
       "    .dataframe thead th {\n",
       "        text-align: right;\n",
       "    }\n",
       "</style>\n",
       "<table border=\"1\" class=\"dataframe\">\n",
       "  <thead>\n",
       "    <tr style=\"text-align: right;\">\n",
       "      <th></th>\n",
       "      <th>asin</th>\n",
       "      <th>related</th>\n",
       "      <th>title</th>\n",
       "      <th>price</th>\n",
       "      <th>salesRank</th>\n",
       "      <th>imUrl</th>\n",
       "      <th>brand</th>\n",
       "      <th>categories</th>\n",
       "      <th>description</th>\n",
       "    </tr>\n",
       "  </thead>\n",
       "  <tbody>\n",
       "    <tr>\n",
       "      <th>0</th>\n",
       "      <td>0110400550</td>\n",
       "      <td>{'also_bought': ['B00C56IXFG', 'B008ZUQWOK', '...</td>\n",
       "      <td>Pink &amp;amp; White 3d Melt Ice-cream Skin Hard C...</td>\n",
       "      <td>3.33</td>\n",
       "      <td>{'Cell Phones &amp; Accessories': 83460}</td>\n",
       "      <td>http://ecx.images-amazon.com/images/I/31zn6SOL...</td>\n",
       "      <td></td>\n",
       "      <td>Cell Phones &amp; Accessories</td>\n",
       "      <td>Pink &amp; White 3D Melt Ice-Cream Skin Hard Case ...</td>\n",
       "    </tr>\n",
       "    <tr>\n",
       "      <th>1</th>\n",
       "      <td>011040047X</td>\n",
       "      <td>{'buy_after_viewing': ['B008RU7UL2', 'B00698LY...</td>\n",
       "      <td>Purple Hard Case Cover for Iphone 4 4s 4g with...</td>\n",
       "      <td>1.94</td>\n",
       "      <td>{'Cell Phones &amp; Accessories': 495795}</td>\n",
       "      <td>http://ecx.images-amazon.com/images/I/41WCZc2d...</td>\n",
       "      <td>NaN</td>\n",
       "      <td>Cell Phones &amp; Accessories</td>\n",
       "      <td>Purple Hard Case Cover for iPhone 4 4S 4G With...</td>\n",
       "    </tr>\n",
       "    <tr>\n",
       "      <th>2</th>\n",
       "      <td>0195866479</td>\n",
       "      <td>{'buy_after_viewing': ['B00530RXP2', 'B004SH9B...</td>\n",
       "      <td>Hello Kitty Light-weighted Chrome Case Black C...</td>\n",
       "      <td>2.94</td>\n",
       "      <td>{'Cell Phones &amp; Accessories': 371302}</td>\n",
       "      <td>http://ecx.images-amazon.com/images/I/41fy1%2B...</td>\n",
       "      <td>NaN</td>\n",
       "      <td>Cell Phones &amp; Accessories</td>\n",
       "      <td>Thin and light weighted,\\nCase's unique design...</td>\n",
       "    </tr>\n",
       "    <tr>\n",
       "      <th>3</th>\n",
       "      <td>0214514706</td>\n",
       "      <td>{'buy_after_viewing': ['B0042FV2SI', 'B00869D2...</td>\n",
       "      <td>Cool Summer Breeze in the Ocean Beach Collecti...</td>\n",
       "      <td>0.94</td>\n",
       "      <td>{'Cell Phones &amp; Accessories': 778100}</td>\n",
       "      <td>http://ecx.images-amazon.com/images/I/415cmp6Q...</td>\n",
       "      <td>NaN</td>\n",
       "      <td>Cell Phones &amp; Accessories</td>\n",
       "      <td>Product Name:  Cool Summer Breeze In The Ocean...</td>\n",
       "    </tr>\n",
       "    <tr>\n",
       "      <th>4</th>\n",
       "      <td>0214714705</td>\n",
       "      <td>{'buy_after_viewing': ['B008EU7HRM', 'B00869D2...</td>\n",
       "      <td>Cool Summer Breeze In The Ocean Beach Collecti...</td>\n",
       "      <td>5.79</td>\n",
       "      <td>{'Cell Phones &amp; Accessories': 654894}</td>\n",
       "      <td>http://ecx.images-amazon.com/images/I/41XDwPt2...</td>\n",
       "      <td>NaN</td>\n",
       "      <td>Cell Phones &amp; Accessories</td>\n",
       "      <td>Product Name:  Cool Summer Breeze In The Ocean...</td>\n",
       "    </tr>\n",
       "    <tr>\n",
       "      <th>...</th>\n",
       "      <td>...</td>\n",
       "      <td>...</td>\n",
       "      <td>...</td>\n",
       "      <td>...</td>\n",
       "      <td>...</td>\n",
       "      <td>...</td>\n",
       "      <td>...</td>\n",
       "      <td>...</td>\n",
       "      <td>...</td>\n",
       "    </tr>\n",
       "    <tr>\n",
       "      <th>9995</th>\n",
       "      <td>B000TJT47W</td>\n",
       "      <td>NaN</td>\n",
       "      <td>Incipio Executive Molded-Leather Hard Case for...</td>\n",
       "      <td>NaN</td>\n",
       "      <td>{'Cell Phones &amp; Accessories': 2113577}</td>\n",
       "      <td>http://ecx.images-amazon.com/images/I/418KN%2B...</td>\n",
       "      <td>NaN</td>\n",
       "      <td>Cell Phones &amp; Accessories</td>\n",
       "      <td>A protective case that fits like a glove. Mold...</td>\n",
       "    </tr>\n",
       "    <tr>\n",
       "      <th>9996</th>\n",
       "      <td>B000TJP5HK</td>\n",
       "      <td>NaN</td>\n",
       "      <td>Motorola V235 V323 V325 V360 V361 V365 W315 Ca...</td>\n",
       "      <td>3.99</td>\n",
       "      <td>{'Cell Phones &amp; Accessories': 774627}</td>\n",
       "      <td>http://ecx.images-amazon.com/images/I/31WHF52f...</td>\n",
       "      <td>NaN</td>\n",
       "      <td>Cell Phones &amp; Accessories</td>\n",
       "      <td>Generic Mini USB Car Charger</td>\n",
       "    </tr>\n",
       "    <tr>\n",
       "      <th>9997</th>\n",
       "      <td>B000TJXFS6</td>\n",
       "      <td>{'buy_after_viewing': ['B003T4D5Y2', 'B00851AO...</td>\n",
       "      <td>iGRIP Universal Traveler Kit</td>\n",
       "      <td>22.23</td>\n",
       "      <td>{'Cell Phones &amp; Accessories': 231357}</td>\n",
       "      <td>http://ecx.images-amazon.com/images/I/51vBMhYn...</td>\n",
       "      <td>iGrip</td>\n",
       "      <td>Cell Phones &amp; Accessories</td>\n",
       "      <td>Keep your hands on the Wheel and eyes on the R...</td>\n",
       "    </tr>\n",
       "    <tr>\n",
       "      <th>9998</th>\n",
       "      <td>B000TK3V2U</td>\n",
       "      <td>NaN</td>\n",
       "      <td>BauBau iPhone Case Pouch</td>\n",
       "      <td>NaN</td>\n",
       "      <td>NaN</td>\n",
       "      <td>http://ecx.images-amazon.com/images/I/41cQqsxM...</td>\n",
       "      <td>NaN</td>\n",
       "      <td>Cell Phones &amp; Accessories</td>\n",
       "      <td>NaN</td>\n",
       "    </tr>\n",
       "    <tr>\n",
       "      <th>9999</th>\n",
       "      <td>B000TK79SM</td>\n",
       "      <td>NaN</td>\n",
       "      <td>Argard M10 Bluetooth Head Set</td>\n",
       "      <td>NaN</td>\n",
       "      <td>{'Cell Phones &amp; Accessories': 1206627}</td>\n",
       "      <td>http://ecx.images-amazon.com/images/I/41iFYw5V...</td>\n",
       "      <td>NaN</td>\n",
       "      <td>Cell Phones &amp; Accessories</td>\n",
       "      <td>The ARGARD M10 is an extremely small bluetooth...</td>\n",
       "    </tr>\n",
       "  </tbody>\n",
       "</table>\n",
       "<p>10000 rows × 9 columns</p>\n",
       "</div>"
      ],
      "text/plain": [
       "            asin                                            related  \\\n",
       "0     0110400550  {'also_bought': ['B00C56IXFG', 'B008ZUQWOK', '...   \n",
       "1     011040047X  {'buy_after_viewing': ['B008RU7UL2', 'B00698LY...   \n",
       "2     0195866479  {'buy_after_viewing': ['B00530RXP2', 'B004SH9B...   \n",
       "3     0214514706  {'buy_after_viewing': ['B0042FV2SI', 'B00869D2...   \n",
       "4     0214714705  {'buy_after_viewing': ['B008EU7HRM', 'B00869D2...   \n",
       "...          ...                                                ...   \n",
       "9995  B000TJT47W                                                NaN   \n",
       "9996  B000TJP5HK                                                NaN   \n",
       "9997  B000TJXFS6  {'buy_after_viewing': ['B003T4D5Y2', 'B00851AO...   \n",
       "9998  B000TK3V2U                                                NaN   \n",
       "9999  B000TK79SM                                                NaN   \n",
       "\n",
       "                                                  title  price  \\\n",
       "0     Pink &amp; White 3d Melt Ice-cream Skin Hard C...   3.33   \n",
       "1     Purple Hard Case Cover for Iphone 4 4s 4g with...   1.94   \n",
       "2     Hello Kitty Light-weighted Chrome Case Black C...   2.94   \n",
       "3     Cool Summer Breeze in the Ocean Beach Collecti...   0.94   \n",
       "4     Cool Summer Breeze In The Ocean Beach Collecti...   5.79   \n",
       "...                                                 ...    ...   \n",
       "9995  Incipio Executive Molded-Leather Hard Case for...    NaN   \n",
       "9996  Motorola V235 V323 V325 V360 V361 V365 W315 Ca...   3.99   \n",
       "9997                       iGRIP Universal Traveler Kit  22.23   \n",
       "9998                           BauBau iPhone Case Pouch    NaN   \n",
       "9999                      Argard M10 Bluetooth Head Set    NaN   \n",
       "\n",
       "                                   salesRank  \\\n",
       "0       {'Cell Phones & Accessories': 83460}   \n",
       "1      {'Cell Phones & Accessories': 495795}   \n",
       "2      {'Cell Phones & Accessories': 371302}   \n",
       "3      {'Cell Phones & Accessories': 778100}   \n",
       "4      {'Cell Phones & Accessories': 654894}   \n",
       "...                                      ...   \n",
       "9995  {'Cell Phones & Accessories': 2113577}   \n",
       "9996   {'Cell Phones & Accessories': 774627}   \n",
       "9997   {'Cell Phones & Accessories': 231357}   \n",
       "9998                                     NaN   \n",
       "9999  {'Cell Phones & Accessories': 1206627}   \n",
       "\n",
       "                                                  imUrl  brand  \\\n",
       "0     http://ecx.images-amazon.com/images/I/31zn6SOL...          \n",
       "1     http://ecx.images-amazon.com/images/I/41WCZc2d...    NaN   \n",
       "2     http://ecx.images-amazon.com/images/I/41fy1%2B...    NaN   \n",
       "3     http://ecx.images-amazon.com/images/I/415cmp6Q...    NaN   \n",
       "4     http://ecx.images-amazon.com/images/I/41XDwPt2...    NaN   \n",
       "...                                                 ...    ...   \n",
       "9995  http://ecx.images-amazon.com/images/I/418KN%2B...    NaN   \n",
       "9996  http://ecx.images-amazon.com/images/I/31WHF52f...    NaN   \n",
       "9997  http://ecx.images-amazon.com/images/I/51vBMhYn...  iGrip   \n",
       "9998  http://ecx.images-amazon.com/images/I/41cQqsxM...    NaN   \n",
       "9999  http://ecx.images-amazon.com/images/I/41iFYw5V...    NaN   \n",
       "\n",
       "                     categories  \\\n",
       "0     Cell Phones & Accessories   \n",
       "1     Cell Phones & Accessories   \n",
       "2     Cell Phones & Accessories   \n",
       "3     Cell Phones & Accessories   \n",
       "4     Cell Phones & Accessories   \n",
       "...                         ...   \n",
       "9995  Cell Phones & Accessories   \n",
       "9996  Cell Phones & Accessories   \n",
       "9997  Cell Phones & Accessories   \n",
       "9998  Cell Phones & Accessories   \n",
       "9999  Cell Phones & Accessories   \n",
       "\n",
       "                                            description  \n",
       "0     Pink & White 3D Melt Ice-Cream Skin Hard Case ...  \n",
       "1     Purple Hard Case Cover for iPhone 4 4S 4G With...  \n",
       "2     Thin and light weighted,\\nCase's unique design...  \n",
       "3     Product Name:  Cool Summer Breeze In The Ocean...  \n",
       "4     Product Name:  Cool Summer Breeze In The Ocean...  \n",
       "...                                                 ...  \n",
       "9995  A protective case that fits like a glove. Mold...  \n",
       "9996                       Generic Mini USB Car Charger  \n",
       "9997  Keep your hands on the Wheel and eyes on the R...  \n",
       "9998                                                NaN  \n",
       "9999  The ARGARD M10 is an extremely small bluetooth...  \n",
       "\n",
       "[10000 rows x 9 columns]"
      ]
     },
     "execution_count": 7,
     "metadata": {},
     "output_type": "execute_result"
    }
   ],
   "source": [
    "df_16"
   ]
  },
  {
   "cell_type": "code",
   "execution_count": 8,
   "id": "a56e8541",
   "metadata": {
    "execution": {
     "iopub.execute_input": "2022-10-05T11:00:58.835113Z",
     "iopub.status.busy": "2022-10-05T11:00:58.833789Z",
     "iopub.status.idle": "2022-10-05T11:00:58.842643Z",
     "shell.execute_reply": "2022-10-05T11:00:58.841857Z"
    },
    "papermill": {
     "duration": 0.034347,
     "end_time": "2022-10-05T11:00:58.845018",
     "exception": false,
     "start_time": "2022-10-05T11:00:58.810671",
     "status": "completed"
    },
    "tags": []
   },
   "outputs": [],
   "source": [
    "def replace(text):\n",
    "    if 'Health & Personal Care' in text:\n",
    "        text = 'Health & Personal Care'\n",
    "    if 'Camera &amp; Photo' in text:\n",
    "        text = 'Camera & Photo'\n",
    "    if 'Patio, Lawn & Garden' in text:\n",
    "        text = 'Patio, Lawn & Garden'\n",
    "    if 'Home &amp; Kitchen' in text:\n",
    "        text = 'Home &amp; Kitchen'\n",
    "    if 'Arts, Crafts & Sewing' in text:\n",
    "        text = 'Arts, Crafts & Sewing'  \n",
    "    if 'Grocery & Gourmet Food' in text:\n",
    "        text = 'Grocery & Gourmet Food' \n",
    "    if 'Musical Instruments' in text:\n",
    "        text = 'Musical Instruments'\n",
    "    if 'Beauty' in text:\n",
    "        text = 'Beauty'\n",
    "    if 'Electronics' in text:\n",
    "        text = 'Electronics'\n",
    "    if 'Cell Phones & Accessories' in text:\n",
    "        text = 'Cell Phones & Accessories'\n",
    "    if 'Clothing' in text:\n",
    "        text = 'Clothing'\n",
    "    if 'Shoes' in text:\n",
    "        text = 'Shoes'\n",
    "    if 'Jewelry' in text:\n",
    "        text = 'Jewelry'\n",
    "    if 'Watches' in text:\n",
    "        text = 'Watches'\n",
    "    return text"
   ]
  },
  {
   "cell_type": "code",
   "execution_count": 9,
   "id": "81009704",
   "metadata": {
    "execution": {
     "iopub.execute_input": "2022-10-05T11:00:58.891051Z",
     "iopub.status.busy": "2022-10-05T11:00:58.890287Z",
     "iopub.status.idle": "2022-10-05T11:00:58.976402Z",
     "shell.execute_reply": "2022-10-05T11:00:58.975248Z"
    },
    "papermill": {
     "duration": 0.111921,
     "end_time": "2022-10-05T11:00:58.978867",
     "exception": false,
     "start_time": "2022-10-05T11:00:58.866946",
     "status": "completed"
    },
    "tags": []
   },
   "outputs": [
    {
     "data": {
      "text/html": [
       "<div>\n",
       "<style scoped>\n",
       "    .dataframe tbody tr th:only-of-type {\n",
       "        vertical-align: middle;\n",
       "    }\n",
       "\n",
       "    .dataframe tbody tr th {\n",
       "        vertical-align: top;\n",
       "    }\n",
       "\n",
       "    .dataframe thead th {\n",
       "        text-align: right;\n",
       "    }\n",
       "</style>\n",
       "<table border=\"1\" class=\"dataframe\">\n",
       "  <thead>\n",
       "    <tr style=\"text-align: right;\">\n",
       "      <th></th>\n",
       "      <th>salesRank</th>\n",
       "    </tr>\n",
       "  </thead>\n",
       "  <tbody>\n",
       "    <tr>\n",
       "      <th>5695</th>\n",
       "      <td>{'Musical Instruments': 75715}</td>\n",
       "    </tr>\n",
       "    <tr>\n",
       "      <th>9605</th>\n",
       "      <td>{'Grocery &amp; Gourmet Food': 115095}</td>\n",
       "    </tr>\n",
       "    <tr>\n",
       "      <th>6114</th>\n",
       "      <td>NaN</td>\n",
       "    </tr>\n",
       "    <tr>\n",
       "      <th>7125</th>\n",
       "      <td>{'Patio, Lawn &amp; Garden': 615295}</td>\n",
       "    </tr>\n",
       "    <tr>\n",
       "      <th>1450</th>\n",
       "      <td>{'Patio, Lawn &amp; Garden': 312870}</td>\n",
       "    </tr>\n",
       "    <tr>\n",
       "      <th>1602</th>\n",
       "      <td>{'Music': 385010}</td>\n",
       "    </tr>\n",
       "    <tr>\n",
       "      <th>5220</th>\n",
       "      <td>{'Arts, Crafts &amp; Sewing': 60652}</td>\n",
       "    </tr>\n",
       "    <tr>\n",
       "      <th>6229</th>\n",
       "      <td>{'Musical Instruments': 1642}</td>\n",
       "    </tr>\n",
       "    <tr>\n",
       "      <th>8703</th>\n",
       "      <td>{'Health &amp; Personal Care': 63103}</td>\n",
       "    </tr>\n",
       "    <tr>\n",
       "      <th>5171</th>\n",
       "      <td>{'Health &amp; Personal Care': 260523}</td>\n",
       "    </tr>\n",
       "  </tbody>\n",
       "</table>\n",
       "</div>"
      ],
      "text/plain": [
       "                               salesRank\n",
       "5695      {'Musical Instruments': 75715}\n",
       "9605  {'Grocery & Gourmet Food': 115095}\n",
       "6114                                 NaN\n",
       "7125    {'Patio, Lawn & Garden': 615295}\n",
       "1450    {'Patio, Lawn & Garden': 312870}\n",
       "1602                   {'Music': 385010}\n",
       "5220    {'Arts, Crafts & Sewing': 60652}\n",
       "6229       {'Musical Instruments': 1642}\n",
       "8703   {'Health & Personal Care': 63103}\n",
       "5171  {'Health & Personal Care': 260523}"
      ]
     },
     "execution_count": 9,
     "metadata": {},
     "output_type": "execute_result"
    }
   ],
   "source": [
    "df_test = raw_data_1.copy()\n",
    "df_test[['salesRank']].sample(10)"
   ]
  },
  {
   "cell_type": "code",
   "execution_count": 10,
   "id": "6488c95e",
   "metadata": {
    "execution": {
     "iopub.execute_input": "2022-10-05T11:00:59.025871Z",
     "iopub.status.busy": "2022-10-05T11:00:59.025150Z",
     "iopub.status.idle": "2022-10-05T11:00:59.193471Z",
     "shell.execute_reply": "2022-10-05T11:00:59.192134Z"
    },
    "papermill": {
     "duration": 0.194636,
     "end_time": "2022-10-05T11:00:59.195922",
     "exception": false,
     "start_time": "2022-10-05T11:00:59.001286",
     "status": "completed"
    },
    "tags": []
   },
   "outputs": [
    {
     "data": {
      "text/plain": [
       "nan                                 13070\n",
       "Health & Personal Care               8936\n",
       "Beauty                               8468\n",
       "Grocery & Gourmet Food               8342\n",
       "Patio, Lawn & Garden                 8313\n",
       "Arts, Crafts & Sewing                5808\n",
       "Musical Instruments                  4877\n",
       "Home &amp; Kitchen                   3980\n",
       "Clothing                             3787\n",
       "Jewelry                              2783\n",
       "Electronics                          1487\n",
       "Camera & Photo                       1316\n",
       "Watches                              1162\n",
       "Shoes                                 840\n",
       "{}                                    722\n",
       "Cell Phones & Accessories             302\n",
       "{'Sports &amp; Outdoors': 90}          10\n",
       "{'Sports &amp; Outdoors': 1757}         8\n",
       "{'Sports &amp; Outdoors': 8779}         7\n",
       "{'Sports &amp; Outdoors': 45397}        7\n",
       "Name: salesRank, dtype: int64"
      ]
     },
     "execution_count": 10,
     "metadata": {},
     "output_type": "execute_result"
    }
   ],
   "source": [
    "df_test['salesRank'] = df_test['salesRank'].apply(lambda x: replace(str(x)))\n",
    "df_test['salesRank'].value_counts().head(20)"
   ]
  },
  {
   "cell_type": "code",
   "execution_count": 11,
   "id": "ea715ac5",
   "metadata": {
    "execution": {
     "iopub.execute_input": "2022-10-05T11:00:59.244160Z",
     "iopub.status.busy": "2022-10-05T11:00:59.243775Z",
     "iopub.status.idle": "2022-10-05T11:00:59.431691Z",
     "shell.execute_reply": "2022-10-05T11:00:59.430679Z"
    },
    "papermill": {
     "duration": 0.214887,
     "end_time": "2022-10-05T11:00:59.434484",
     "exception": false,
     "start_time": "2022-10-05T11:00:59.219597",
     "status": "completed"
    },
    "tags": []
   },
   "outputs": [],
   "source": [
    "df1 = df_test.loc[df_test.salesRank == 'Health & Personal Care']\n",
    "df2 = df_test.loc[df_test.salesRank == 'Beauty']\n",
    "df3 = df_test.loc[df_test.salesRank == 'Grocery & Gourmet Food']\n",
    "df4 = df_test.loc[df_test.salesRank == 'Patio, Lawn & Garden']\n",
    "df5 = df_test.loc[df_test.salesRank == 'Arts, Crafts & Sewing']\n",
    "df6 = df_test.loc[df_test.salesRank == 'Musical Instruments']\n",
    "df7 = df_test.loc[df_test.salesRank == 'Home &amp; Kitchen']\n",
    "df8 = df_test.loc[df_test.salesRank == 'Clothing']\n",
    "df9 = df_test.loc[df_test.salesRank == 'Jewelry']\n",
    "df10 = df_test.loc[df_test.salesRank == 'Electronics']\n",
    "df11 = df_test.loc[df_test.salesRank == 'Camera & Photo']\n",
    "df12 = df_test.loc[df_test.salesRank == 'Watches']\n",
    "df13 = df_test.loc[df_test.salesRank == 'Shoes']\n",
    "\n",
    "# Tiến hành xóa bỏ các cột dư thừa\n",
    "df1=df1.reset_index(drop = True)[['imUrl','salesRank','price','asin','description','title']].rename(columns={\"salesRank\": \"categories\"})\n",
    "df2=df2.reset_index(drop = True)[['imUrl','salesRank','price','asin','description','title']].rename(columns={\"salesRank\": \"categories\"})\n",
    "df3=df3.reset_index(drop = True)[['imUrl','salesRank','price','asin','description','title']].rename(columns={\"salesRank\": \"categories\"})\n",
    "df4=df4.reset_index(drop = True)[['imUrl','salesRank','price','asin','description','title']].rename(columns={\"salesRank\": \"categories\"})\n",
    "df5=df5.reset_index(drop = True)[['imUrl','salesRank','price','asin','description','title']].rename(columns={\"salesRank\": \"categories\"})\n",
    "df6=df6.reset_index(drop = True)[['imUrl','salesRank','price','asin','description','title']].rename(columns={\"salesRank\": \"categories\"})\n",
    "df7=df7.reset_index(drop = True)[['imUrl','salesRank','price','asin','description','title']].rename(columns={\"salesRank\": \"categories\"})\n",
    "df8=df8.reset_index(drop = True)[['imUrl','salesRank','price','asin','description','title']].rename(columns={\"salesRank\": \"categories\"})\n",
    "df9=df9.reset_index(drop = True)[['imUrl','salesRank','price','asin','description','title']].rename(columns={\"salesRank\": \"categories\"})\n",
    "df10=df10.reset_index(drop = True)[['imUrl','salesRank','price','asin','description','title']].rename(columns={\"salesRank\": \"categories\"})\n",
    "df11=df11.reset_index(drop = True)[['imUrl','salesRank','price','asin','description','title']].rename(columns={\"salesRank\": \"categories\"})\n",
    "df12=df12.reset_index(drop = True)[['imUrl','salesRank','price','asin','description','title']].rename(columns={\"salesRank\": \"categories\"})\n",
    "df13=df13.reset_index(drop = True)[['imUrl','salesRank','price','asin','description','title']].rename(columns={\"salesRank\": \"categories\"})"
   ]
  },
  {
   "cell_type": "code",
   "execution_count": 12,
   "id": "e6101b41",
   "metadata": {
    "execution": {
     "iopub.execute_input": "2022-10-05T11:00:59.481364Z",
     "iopub.status.busy": "2022-10-05T11:00:59.480965Z",
     "iopub.status.idle": "2022-10-05T11:00:59.588624Z",
     "shell.execute_reply": "2022-10-05T11:00:59.587474Z"
    },
    "papermill": {
     "duration": 0.134198,
     "end_time": "2022-10-05T11:00:59.591262",
     "exception": false,
     "start_time": "2022-10-05T11:00:59.457064",
     "status": "completed"
    },
    "tags": []
   },
   "outputs": [
    {
     "name": "stdout",
     "output_type": "stream",
     "text": [
      "Data Dimensions are:  (112244, 6)\n",
      "Columns:  Index(['categories', 'imUrl', 'price', 'asin', 'description', 'title'], dtype='object')\n"
     ]
    }
   ],
   "source": [
    "# Tập hợp data gồm 20 categories đã qua xử lí lại\n",
    "data = pd.concat([raw_data_2,df1,df2,df3,df4,df5,df6,df7,df8,df9,df10,df11,df12,df13])\n",
    "data = data.reset_index(drop = True)\n",
    "print(\"Data Dimensions are: \", data.shape)\n",
    "print(\"Columns: \", data.columns)"
   ]
  },
  {
   "cell_type": "code",
   "execution_count": 13,
   "id": "05a32542",
   "metadata": {
    "execution": {
     "iopub.execute_input": "2022-10-05T11:00:59.637826Z",
     "iopub.status.busy": "2022-10-05T11:00:59.637354Z",
     "iopub.status.idle": "2022-10-05T11:00:59.703011Z",
     "shell.execute_reply": "2022-10-05T11:00:59.701896Z"
    },
    "papermill": {
     "duration": 0.092154,
     "end_time": "2022-10-05T11:00:59.705719",
     "exception": false,
     "start_time": "2022-10-05T11:00:59.613565",
     "status": "completed"
    },
    "tags": []
   },
   "outputs": [
    {
     "name": "stdout",
     "output_type": "stream",
     "text": [
      "Dataset size: 111631\n"
     ]
    },
    {
     "data": {
      "text/html": [
       "<div>\n",
       "<style scoped>\n",
       "    .dataframe tbody tr th:only-of-type {\n",
       "        vertical-align: middle;\n",
       "    }\n",
       "\n",
       "    .dataframe tbody tr th {\n",
       "        vertical-align: top;\n",
       "    }\n",
       "\n",
       "    .dataframe thead th {\n",
       "        text-align: right;\n",
       "    }\n",
       "</style>\n",
       "<table border=\"1\" class=\"dataframe\">\n",
       "  <thead>\n",
       "    <tr style=\"text-align: right;\">\n",
       "      <th></th>\n",
       "      <th>categories</th>\n",
       "      <th>imUrl</th>\n",
       "      <th>price</th>\n",
       "      <th>asin</th>\n",
       "      <th>description</th>\n",
       "      <th>title</th>\n",
       "    </tr>\n",
       "  </thead>\n",
       "  <tbody>\n",
       "    <tr>\n",
       "      <th>76546</th>\n",
       "      <td>Grocery &amp; Gourmet Food</td>\n",
       "      <td>http://ecx.images-amazon.com/images/I/31L-McAf...</td>\n",
       "      <td>6.99</td>\n",
       "      <td>B0008DI8QM</td>\n",
       "      <td>Softer caramel, wonderful for centers, apple d...</td>\n",
       "      <td>Mercken's Block Vanilla Caramel</td>\n",
       "    </tr>\n",
       "    <tr>\n",
       "      <th>92199</th>\n",
       "      <td>Musical Instruments</td>\n",
       "      <td>http://ecx.images-amazon.com/images/I/414NKFSM...</td>\n",
       "      <td>49.95</td>\n",
       "      <td>B00006HMQ6</td>\n",
       "      <td>Take your talents to another level or embark u...</td>\n",
       "      <td>Casio LK-43 Lighted Keyboard</td>\n",
       "    </tr>\n",
       "    <tr>\n",
       "      <th>477</th>\n",
       "      <td>Baby</td>\n",
       "      <td>http://ecx.images-amazon.com/images/I/41Ag8SwJ...</td>\n",
       "      <td>7.48</td>\n",
       "      <td>B00005BYUL</td>\n",
       "      <td>Sassy baby Large, Medium and Small Feeding Bow...</td>\n",
       "      <td>Sassy Baby Large, Medium, And Small Feeding Bo...</td>\n",
       "    </tr>\n",
       "    <tr>\n",
       "      <th>52087</th>\n",
       "      <td>Cell Phones &amp; Accessories</td>\n",
       "      <td>http://ecx.images-amazon.com/images/I/516QyZ7J...</td>\n",
       "      <td>5.77</td>\n",
       "      <td>B000TA8F80</td>\n",
       "      <td>Features: long lasting high grade cow leather,...</td>\n",
       "      <td>Cellet Motorola RAZR V3 &amp;quot;Posh Case&amp;quot; ...</td>\n",
       "    </tr>\n",
       "    <tr>\n",
       "      <th>111690</th>\n",
       "      <td>Shoes</td>\n",
       "      <td>http://ecx.images-amazon.com/images/I/41YCSEcm...</td>\n",
       "      <td>NaN</td>\n",
       "      <td>B0001HMC7Q</td>\n",
       "      <td>NaN</td>\n",
       "      <td>Men's LaCrosse&amp;reg; 18&amp;quot; Alphaburly Huntin...</td>\n",
       "    </tr>\n",
       "    <tr>\n",
       "      <th>50330</th>\n",
       "      <td>Cell Phones &amp; Accessories</td>\n",
       "      <td>http://ecx.images-amazon.com/images/I/41OuuZNL...</td>\n",
       "      <td>11.15</td>\n",
       "      <td>B000NUTPLW</td>\n",
       "      <td>Cellet Omega Case Series provide excellent pro...</td>\n",
       "      <td>Cellet Horizontal Omega Pouch for HD2 &amp;amp; EV...</td>\n",
       "    </tr>\n",
       "    <tr>\n",
       "      <th>58770</th>\n",
       "      <td>Health &amp; Personal Care</td>\n",
       "      <td>http://ecx.images-amazon.com/images/I/41Mte2BW...</td>\n",
       "      <td>17.56</td>\n",
       "      <td>B00028OIKI</td>\n",
       "      <td>Bluebonnet Nutrition Lycopene 20 mg - 30 Softg...</td>\n",
       "      <td>Bluebonnet Nutrition - Lycopene 20 mg. - 30 So...</td>\n",
       "    </tr>\n",
       "    <tr>\n",
       "      <th>59462</th>\n",
       "      <td>Health &amp; Personal Care</td>\n",
       "      <td>http://ecx.images-amazon.com/images/I/41k78lNN...</td>\n",
       "      <td>18.99</td>\n",
       "      <td>B0002DUN4I</td>\n",
       "      <td>multi+ complete, the unique food-based high-po...</td>\n",
       "      <td>Genuine Health: multi+ complete (60Tablets)</td>\n",
       "    </tr>\n",
       "    <tr>\n",
       "      <th>2659</th>\n",
       "      <td>Baby</td>\n",
       "      <td>http://ecx.images-amazon.com/images/I/51IL1ZSC...</td>\n",
       "      <td>NaN</td>\n",
       "      <td>B000A1AF8G</td>\n",
       "      <td>This kit includes a revised user guide, belt-r...</td>\n",
       "      <td>Britax Regent Youth Car Seat, Sahara</td>\n",
       "    </tr>\n",
       "    <tr>\n",
       "      <th>26977</th>\n",
       "      <td>Kitchen &amp; Dining</td>\n",
       "      <td>http://ecx.images-amazon.com/images/I/41xXoqj9...</td>\n",
       "      <td>17.99</td>\n",
       "      <td>B005IHCGJ8</td>\n",
       "      <td>Good quality cigarette holder with integrated,...</td>\n",
       "      <td>Denicotea 20202 Ejector Lady Black and Gold Ho...</td>\n",
       "    </tr>\n",
       "  </tbody>\n",
       "</table>\n",
       "</div>"
      ],
      "text/plain": [
       "                       categories  \\\n",
       "76546      Grocery & Gourmet Food   \n",
       "92199         Musical Instruments   \n",
       "477                          Baby   \n",
       "52087   Cell Phones & Accessories   \n",
       "111690                      Shoes   \n",
       "50330   Cell Phones & Accessories   \n",
       "58770      Health & Personal Care   \n",
       "59462      Health & Personal Care   \n",
       "2659                         Baby   \n",
       "26977            Kitchen & Dining   \n",
       "\n",
       "                                                    imUrl  price        asin  \\\n",
       "76546   http://ecx.images-amazon.com/images/I/31L-McAf...   6.99  B0008DI8QM   \n",
       "92199   http://ecx.images-amazon.com/images/I/414NKFSM...  49.95  B00006HMQ6   \n",
       "477     http://ecx.images-amazon.com/images/I/41Ag8SwJ...   7.48  B00005BYUL   \n",
       "52087   http://ecx.images-amazon.com/images/I/516QyZ7J...   5.77  B000TA8F80   \n",
       "111690  http://ecx.images-amazon.com/images/I/41YCSEcm...    NaN  B0001HMC7Q   \n",
       "50330   http://ecx.images-amazon.com/images/I/41OuuZNL...  11.15  B000NUTPLW   \n",
       "58770   http://ecx.images-amazon.com/images/I/41Mte2BW...  17.56  B00028OIKI   \n",
       "59462   http://ecx.images-amazon.com/images/I/41k78lNN...  18.99  B0002DUN4I   \n",
       "2659    http://ecx.images-amazon.com/images/I/51IL1ZSC...    NaN  B000A1AF8G   \n",
       "26977   http://ecx.images-amazon.com/images/I/41xXoqj9...  17.99  B005IHCGJ8   \n",
       "\n",
       "                                              description  \\\n",
       "76546   Softer caramel, wonderful for centers, apple d...   \n",
       "92199   Take your talents to another level or embark u...   \n",
       "477     Sassy baby Large, Medium and Small Feeding Bow...   \n",
       "52087   Features: long lasting high grade cow leather,...   \n",
       "111690                                                NaN   \n",
       "50330   Cellet Omega Case Series provide excellent pro...   \n",
       "58770   Bluebonnet Nutrition Lycopene 20 mg - 30 Softg...   \n",
       "59462   multi+ complete, the unique food-based high-po...   \n",
       "2659    This kit includes a revised user guide, belt-r...   \n",
       "26977   Good quality cigarette holder with integrated,...   \n",
       "\n",
       "                                                    title  \n",
       "76546                     Mercken's Block Vanilla Caramel  \n",
       "92199                        Casio LK-43 Lighted Keyboard  \n",
       "477     Sassy Baby Large, Medium, And Small Feeding Bo...  \n",
       "52087   Cellet Motorola RAZR V3 &quot;Posh Case&quot; ...  \n",
       "111690  Men's LaCrosse&reg; 18&quot; Alphaburly Huntin...  \n",
       "50330   Cellet Horizontal Omega Pouch for HD2 &amp; EV...  \n",
       "58770   Bluebonnet Nutrition - Lycopene 20 mg. - 30 So...  \n",
       "59462         Genuine Health: multi+ complete (60Tablets)  \n",
       "2659                 Britax Regent Youth Car Seat, Sahara  \n",
       "26977   Denicotea 20202 Ejector Lady Black and Gold Ho...  "
      ]
     },
     "execution_count": 13,
     "metadata": {},
     "output_type": "execute_result"
    }
   ],
   "source": [
    "data.dropna(subset=['categories', 'imUrl'], axis=0, inplace=True)\n",
    "print(f'Dataset size: {len(data)}')\n",
    "data.sample(10)"
   ]
  },
  {
   "cell_type": "code",
   "execution_count": 14,
   "id": "775d8468",
   "metadata": {
    "execution": {
     "iopub.execute_input": "2022-10-05T11:00:59.753126Z",
     "iopub.status.busy": "2022-10-05T11:00:59.752690Z",
     "iopub.status.idle": "2022-10-05T11:00:59.939534Z",
     "shell.execute_reply": "2022-10-05T11:00:59.938033Z"
    },
    "papermill": {
     "duration": 0.213497,
     "end_time": "2022-10-05T11:00:59.942129",
     "exception": false,
     "start_time": "2022-10-05T11:00:59.728632",
     "status": "completed"
    },
    "tags": []
   },
   "outputs": [
    {
     "name": "stdout",
     "output_type": "stream",
     "text": [
      "Dataset size: 109279\n"
     ]
    },
    {
     "data": {
      "text/html": [
       "<div>\n",
       "<style scoped>\n",
       "    .dataframe tbody tr th:only-of-type {\n",
       "        vertical-align: middle;\n",
       "    }\n",
       "\n",
       "    .dataframe tbody tr th {\n",
       "        vertical-align: top;\n",
       "    }\n",
       "\n",
       "    .dataframe thead th {\n",
       "        text-align: right;\n",
       "    }\n",
       "</style>\n",
       "<table border=\"1\" class=\"dataframe\">\n",
       "  <thead>\n",
       "    <tr style=\"text-align: right;\">\n",
       "      <th></th>\n",
       "      <th>categories</th>\n",
       "      <th>imUrl</th>\n",
       "      <th>price</th>\n",
       "      <th>asin</th>\n",
       "      <th>description</th>\n",
       "      <th>title</th>\n",
       "    </tr>\n",
       "  </thead>\n",
       "  <tbody>\n",
       "    <tr>\n",
       "      <th>37629</th>\n",
       "      <td>Computers</td>\n",
       "      <td>http://ecx.images-amazon.com/images/I/41YQQ9S3...</td>\n",
       "      <td>NaN</td>\n",
       "      <td>B001PIB9XI</td>\n",
       "      <td>Your Cable Store is the only authorized seller...</td>\n",
       "      <td>Your Cable Store Yellow USB Female A To USB Fe...</td>\n",
       "    </tr>\n",
       "    <tr>\n",
       "      <th>97355</th>\n",
       "      <td>Home &amp;amp; Kitchen</td>\n",
       "      <td>http://ecx.images-amazon.com/images/I/41qLUVfL...</td>\n",
       "      <td>14.95</td>\n",
       "      <td>B000PHM2JA</td>\n",
       "      <td>Looking for the perfect way to add to your wes...</td>\n",
       "      <td>2&amp;quot; Hat Favors, Tan</td>\n",
       "    </tr>\n",
       "    <tr>\n",
       "      <th>37181</th>\n",
       "      <td>Computers</td>\n",
       "      <td>http://ecx.images-amazon.com/images/I/51g0SmjX...</td>\n",
       "      <td>20.90</td>\n",
       "      <td>B00101XJDI</td>\n",
       "      <td>Mac Network Adapter / 802.11g Compatible / Jus...</td>\n",
       "      <td>Apple MA688Z/B Airport Extreme Wireless Upgrad...</td>\n",
       "    </tr>\n",
       "    <tr>\n",
       "      <th>103666</th>\n",
       "      <td>Jewelry</td>\n",
       "      <td>http://ecx.images-amazon.com/images/I/31XTAZeB...</td>\n",
       "      <td>NaN</td>\n",
       "      <td>B0002FQCI2</td>\n",
       "      <td>NaN</td>\n",
       "      <td>Sterling Silver Two-Tone Gold TWISTED Hoop Ear...</td>\n",
       "    </tr>\n",
       "    <tr>\n",
       "      <th>105181</th>\n",
       "      <td>Electronics</td>\n",
       "      <td>http://ecx.images-amazon.com/images/I/4184SSV9...</td>\n",
       "      <td>NaN</td>\n",
       "      <td>B00002EQBT</td>\n",
       "      <td>The JBL S310 is a 3-way, 10-inch floor-standin...</td>\n",
       "      <td>JBL S310 3-Way Floorstanding Speaker (Single S...</td>\n",
       "    </tr>\n",
       "  </tbody>\n",
       "</table>\n",
       "</div>"
      ],
      "text/plain": [
       "                categories                                              imUrl  \\\n",
       "37629            Computers  http://ecx.images-amazon.com/images/I/41YQQ9S3...   \n",
       "97355   Home &amp; Kitchen  http://ecx.images-amazon.com/images/I/41qLUVfL...   \n",
       "37181            Computers  http://ecx.images-amazon.com/images/I/51g0SmjX...   \n",
       "103666             Jewelry  http://ecx.images-amazon.com/images/I/31XTAZeB...   \n",
       "105181         Electronics  http://ecx.images-amazon.com/images/I/4184SSV9...   \n",
       "\n",
       "        price        asin                                        description  \\\n",
       "37629     NaN  B001PIB9XI  Your Cable Store is the only authorized seller...   \n",
       "97355   14.95  B000PHM2JA  Looking for the perfect way to add to your wes...   \n",
       "37181   20.90  B00101XJDI  Mac Network Adapter / 802.11g Compatible / Jus...   \n",
       "103666    NaN  B0002FQCI2                                                NaN   \n",
       "105181    NaN  B00002EQBT  The JBL S310 is a 3-way, 10-inch floor-standin...   \n",
       "\n",
       "                                                    title  \n",
       "37629   Your Cable Store Yellow USB Female A To USB Fe...  \n",
       "97355                             2&quot; Hat Favors, Tan  \n",
       "37181   Apple MA688Z/B Airport Extreme Wireless Upgrad...  \n",
       "103666  Sterling Silver Two-Tone Gold TWISTED Hoop Ear...  \n",
       "105181  JBL S310 3-Way Floorstanding Speaker (Single S...  "
      ]
     },
     "execution_count": 14,
     "metadata": {},
     "output_type": "execute_result"
    }
   ],
   "source": [
    "# Vì link ảnh có đuôi gif không thể truy cập nên ta tiến hành loại bỏ những dòng data có chứa link kiểu như vậy\n",
    "def remove_imurl(string):\n",
    "    if \".gif\" in str(string):\n",
    "        return None\n",
    "    elif str(string) == np.nan:\n",
    "        return None\n",
    "    else:\n",
    "        return string\n",
    "\n",
    "data['imUrl'] = data['imUrl'].apply(lambda x: remove_imurl(x))\n",
    "data = data.dropna(subset=['categories', 'imUrl'])\n",
    "\n",
    "data = data.reset_index().drop('index',axis=1) \n",
    "print(f'Dataset size: {len(data)}')\n",
    "data.sample(5)"
   ]
  },
  {
   "cell_type": "code",
   "execution_count": 15,
   "id": "55839a4f",
   "metadata": {
    "execution": {
     "iopub.execute_input": "2022-10-05T11:00:59.992271Z",
     "iopub.status.busy": "2022-10-05T11:00:59.990952Z",
     "iopub.status.idle": "2022-10-05T11:01:00.080521Z",
     "shell.execute_reply": "2022-10-05T11:01:00.079404Z"
    },
    "papermill": {
     "duration": 0.117209,
     "end_time": "2022-10-05T11:01:00.083263",
     "exception": false,
     "start_time": "2022-10-05T11:00:59.966054",
     "status": "completed"
    },
    "tags": []
   },
   "outputs": [
    {
     "name": "stdout",
     "output_type": "stream",
     "text": [
      "Dataset size: 103075\n"
     ]
    },
    {
     "data": {
      "text/html": [
       "<div>\n",
       "<style scoped>\n",
       "    .dataframe tbody tr th:only-of-type {\n",
       "        vertical-align: middle;\n",
       "    }\n",
       "\n",
       "    .dataframe tbody tr th {\n",
       "        vertical-align: top;\n",
       "    }\n",
       "\n",
       "    .dataframe thead th {\n",
       "        text-align: right;\n",
       "    }\n",
       "</style>\n",
       "<table border=\"1\" class=\"dataframe\">\n",
       "  <thead>\n",
       "    <tr style=\"text-align: right;\">\n",
       "      <th></th>\n",
       "      <th>categories</th>\n",
       "      <th>imUrl</th>\n",
       "      <th>price</th>\n",
       "      <th>asin</th>\n",
       "      <th>description</th>\n",
       "      <th>title</th>\n",
       "    </tr>\n",
       "  </thead>\n",
       "  <tbody>\n",
       "    <tr>\n",
       "      <th>48870</th>\n",
       "      <td>Cell Phones &amp; Accessories</td>\n",
       "      <td>http://ecx.images-amazon.com/images/I/416llniL...</td>\n",
       "      <td>289.00</td>\n",
       "      <td>B000P7LHE6</td>\n",
       "      <td></td>\n",
       "      <td>Plantronics CS70N/HL10 Professional Wireless O...</td>\n",
       "    </tr>\n",
       "    <tr>\n",
       "      <th>48169</th>\n",
       "      <td>Cell Phones &amp; Accessories</td>\n",
       "      <td>http://ecx.images-amazon.com/images/I/41YC3zoP...</td>\n",
       "      <td>NaN</td>\n",
       "      <td>B000NDTDL6</td>\n",
       "      <td>Featuring: made from 100% premium silicone whi...</td>\n",
       "      <td>Motorola SLVR L7 Purple Silicone Skin Case</td>\n",
       "    </tr>\n",
       "    <tr>\n",
       "      <th>95039</th>\n",
       "      <td>Home &amp;amp; Kitchen</td>\n",
       "      <td>http://ecx.images-amazon.com/images/I/41vroC4S...</td>\n",
       "      <td>NaN</td>\n",
       "      <td>0740794124</td>\n",
       "      <td>Bill Wattersons Calvin and Hobbes may be the m...</td>\n",
       "      <td>CALVIN &amp;amp; HOBBES ART - FIRST CALVIN &amp;amp; H...</td>\n",
       "    </tr>\n",
       "    <tr>\n",
       "      <th>69196</th>\n",
       "      <td>Grocery &amp; Gourmet Food</td>\n",
       "      <td>http://ecx.images-amazon.com/images/I/41lcYkut...</td>\n",
       "      <td>9.99</td>\n",
       "      <td>B0000TZHZ4</td>\n",
       "      <td>Szechuan House Of Tsang Spicy Stir Fry Sauce s...</td>\n",
       "      <td>House of Tsang Szechuan Spicy Stir Fry Sauce, ...</td>\n",
       "    </tr>\n",
       "    <tr>\n",
       "      <th>58673</th>\n",
       "      <td>Health &amp; Personal Care</td>\n",
       "      <td>http://ecx.images-amazon.com/images/I/21ZBywRK...</td>\n",
       "      <td>NaN</td>\n",
       "      <td>B0002PF5DK</td>\n",
       "      <td>NaN</td>\n",
       "      <td>MAC Fine Point Lip Liner Nutty</td>\n",
       "    </tr>\n",
       "  </tbody>\n",
       "</table>\n",
       "</div>"
      ],
      "text/plain": [
       "                      categories  \\\n",
       "48870  Cell Phones & Accessories   \n",
       "48169  Cell Phones & Accessories   \n",
       "95039         Home &amp; Kitchen   \n",
       "69196     Grocery & Gourmet Food   \n",
       "58673     Health & Personal Care   \n",
       "\n",
       "                                                   imUrl   price        asin  \\\n",
       "48870  http://ecx.images-amazon.com/images/I/416llniL...  289.00  B000P7LHE6   \n",
       "48169  http://ecx.images-amazon.com/images/I/41YC3zoP...     NaN  B000NDTDL6   \n",
       "95039  http://ecx.images-amazon.com/images/I/41vroC4S...     NaN  0740794124   \n",
       "69196  http://ecx.images-amazon.com/images/I/41lcYkut...    9.99  B0000TZHZ4   \n",
       "58673  http://ecx.images-amazon.com/images/I/21ZBywRK...     NaN  B0002PF5DK   \n",
       "\n",
       "                                             description  \\\n",
       "48870                                                      \n",
       "48169  Featuring: made from 100% premium silicone whi...   \n",
       "95039  Bill Wattersons Calvin and Hobbes may be the m...   \n",
       "69196  Szechuan House Of Tsang Spicy Stir Fry Sauce s...   \n",
       "58673                                                NaN   \n",
       "\n",
       "                                                   title  \n",
       "48870  Plantronics CS70N/HL10 Professional Wireless O...  \n",
       "48169         Motorola SLVR L7 Purple Silicone Skin Case  \n",
       "95039  CALVIN &amp; HOBBES ART - FIRST CALVIN &amp; H...  \n",
       "69196  House of Tsang Szechuan Spicy Stir Fry Sauce, ...  \n",
       "58673                     MAC Fine Point Lip Liner Nutty  "
      ]
     },
     "execution_count": 15,
     "metadata": {},
     "output_type": "execute_result"
    }
   ],
   "source": [
    "# Xóa các link ảnh bị trùng lặp \n",
    "data.drop_duplicates(subset=['imUrl'],inplace=True) #dropping duplicates\n",
    "print(f'Dataset size: {len(data)}')\n",
    "data.sample(5)"
   ]
  },
  {
   "cell_type": "markdown",
   "id": "2fca2615",
   "metadata": {
    "papermill": {
     "duration": 0.02407,
     "end_time": "2022-10-05T11:01:00.131916",
     "exception": false,
     "start_time": "2022-10-05T11:01:00.107846",
     "status": "completed"
    },
    "tags": []
   },
   "source": [
    "## **Data Analysis**"
   ]
  },
  {
   "cell_type": "code",
   "execution_count": 16,
   "id": "8cecfaab",
   "metadata": {
    "execution": {
     "iopub.execute_input": "2022-10-05T11:01:00.181598Z",
     "iopub.status.busy": "2022-10-05T11:01:00.181129Z",
     "iopub.status.idle": "2022-10-05T11:01:00.658747Z",
     "shell.execute_reply": "2022-10-05T11:01:00.657879Z"
    },
    "papermill": {
     "duration": 0.505771,
     "end_time": "2022-10-05T11:01:00.661193",
     "exception": false,
     "start_time": "2022-10-05T11:01:00.155422",
     "status": "completed"
    },
    "tags": []
   },
   "outputs": [
    {
     "data": {
      "image/png": "[encoded data removed]",
      "text/plain": [
       "<Figure size 720x360 with 1 Axes>"
      ]
     },
     "metadata": {
      "needs_background": "light"
     },
     "output_type": "display_data"
    }
   ],
   "source": [
    "data_categories = data.groupby('categories')['imUrl'].count().reset_index().rename(columns={'imUrl': 'Count'})\n",
    "data_categories = data_categories.sort_values(by='Count',ascending=False)\n",
    "\n",
    "f, ax = plt.subplots(figsize=(10, 5))\n",
    "g = sns.barplot(data=data_categories.head(20), y='categories', x='Count')\n",
    "f.tight_layout()\n",
    "plt.show()"
   ]
  },
  {
   "cell_type": "code",
   "execution_count": 17,
   "id": "904d6d3e",
   "metadata": {
    "execution": {
     "iopub.execute_input": "2022-10-05T11:01:00.712483Z",
     "iopub.status.busy": "2022-10-05T11:01:00.711789Z",
     "iopub.status.idle": "2022-10-05T11:01:00.726843Z",
     "shell.execute_reply": "2022-10-05T11:01:00.725995Z"
    },
    "papermill": {
     "duration": 0.043072,
     "end_time": "2022-10-05T11:01:00.728970",
     "exception": false,
     "start_time": "2022-10-05T11:01:00.685898",
     "status": "completed"
    },
    "tags": []
   },
   "outputs": [
    {
     "data": {
      "text/plain": [
       "['Baby',\n",
       " 'Home Improvement',\n",
       " 'Pet Supplies',\n",
       " 'Kitchen & Dining',\n",
       " 'Automotive',\n",
       " 'Computers',\n",
       " 'Cell Phones & Accessories',\n",
       " 'Health & Personal Care',\n",
       " 'Beauty',\n",
       " 'Grocery & Gourmet Food',\n",
       " 'Patio, Lawn & Garden',\n",
       " 'Arts, Crafts & Sewing',\n",
       " 'Musical Instruments',\n",
       " 'Home &amp; Kitchen',\n",
       " 'Clothing',\n",
       " 'Jewelry',\n",
       " 'Electronics',\n",
       " 'Camera & Photo',\n",
       " 'Watches',\n",
       " 'Shoes']"
      ]
     },
     "execution_count": 17,
     "metadata": {},
     "output_type": "execute_result"
    }
   ],
   "source": [
    "categories = data['categories'].unique().tolist()\n",
    "categories "
   ]
  },
  {
   "cell_type": "code",
   "execution_count": 18,
   "id": "1ac7a90e",
   "metadata": {
    "execution": {
     "iopub.execute_input": "2022-10-05T11:01:00.779780Z",
     "iopub.status.busy": "2022-10-05T11:01:00.779084Z",
     "iopub.status.idle": "2022-10-05T11:01:01.008611Z",
     "shell.execute_reply": "2022-10-05T11:01:01.007421Z"
    },
    "papermill": {
     "duration": 0.259206,
     "end_time": "2022-10-05T11:01:01.012381",
     "exception": false,
     "start_time": "2022-10-05T11:01:00.753175",
     "status": "completed"
    },
    "tags": []
   },
   "outputs": [
    {
     "name": "stdout",
     "output_type": "stream",
     "text": [
      "Dataset size: 5000\n"
     ]
    },
    {
     "data": {
      "text/html": [
       "<div>\n",
       "<style scoped>\n",
       "    .dataframe tbody tr th:only-of-type {\n",
       "        vertical-align: middle;\n",
       "    }\n",
       "\n",
       "    .dataframe tbody tr th {\n",
       "        vertical-align: top;\n",
       "    }\n",
       "\n",
       "    .dataframe thead th {\n",
       "        text-align: right;\n",
       "    }\n",
       "</style>\n",
       "<table border=\"1\" class=\"dataframe\">\n",
       "  <thead>\n",
       "    <tr style=\"text-align: right;\">\n",
       "      <th></th>\n",
       "      <th>categories</th>\n",
       "      <th>imUrl</th>\n",
       "      <th>price</th>\n",
       "      <th>asin</th>\n",
       "      <th>description</th>\n",
       "      <th>title</th>\n",
       "    </tr>\n",
       "  </thead>\n",
       "  <tbody>\n",
       "    <tr>\n",
       "      <th>397</th>\n",
       "      <td>Home Improvement</td>\n",
       "      <td>http://ecx.images-amazon.com/images/I/41uaiqb2...</td>\n",
       "      <td>15.75</td>\n",
       "      <td>B004LNVYYS</td>\n",
       "      <td>NaN</td>\n",
       "      <td>Stainless Steel Wallet - Steel Yourself Agains...</td>\n",
       "    </tr>\n",
       "    <tr>\n",
       "      <th>3584</th>\n",
       "      <td>Clothing</td>\n",
       "      <td>http://ecx.images-amazon.com/images/I/41J5H5XD...</td>\n",
       "      <td>719.00</td>\n",
       "      <td>B00013VM7G</td>\n",
       "      <td>NaN</td>\n",
       "      <td>The Town Marshall 1&amp;quot; Buckleset 071-325-5</td>\n",
       "    </tr>\n",
       "    <tr>\n",
       "      <th>2128</th>\n",
       "      <td>Beauty</td>\n",
       "      <td>http://ecx.images-amazon.com/images/I/21344WN7...</td>\n",
       "      <td>12.00</td>\n",
       "      <td>B0001IPZ6A</td>\n",
       "      <td>Aquamarine means \"sea water\" and both the gems...</td>\n",
       "      <td>Aquamarine</td>\n",
       "    </tr>\n",
       "  </tbody>\n",
       "</table>\n",
       "</div>"
      ],
      "text/plain": [
       "            categories                                              imUrl  \\\n",
       "397   Home Improvement  http://ecx.images-amazon.com/images/I/41uaiqb2...   \n",
       "3584          Clothing  http://ecx.images-amazon.com/images/I/41J5H5XD...   \n",
       "2128            Beauty  http://ecx.images-amazon.com/images/I/21344WN7...   \n",
       "\n",
       "       price        asin                                        description  \\\n",
       "397    15.75  B004LNVYYS                                                NaN   \n",
       "3584  719.00  B00013VM7G                                                NaN   \n",
       "2128   12.00  B0001IPZ6A  Aquamarine means \"sea water\" and both the gems...   \n",
       "\n",
       "                                                  title  \n",
       "397   Stainless Steel Wallet - Steel Yourself Agains...  \n",
       "3584      The Town Marshall 1&quot; Buckleset 071-325-5  \n",
       "2128                                         Aquamarine  "
      ]
     },
     "execution_count": 18,
     "metadata": {},
     "output_type": "execute_result"
    }
   ],
   "source": [
    "# Lấy 250 ảnh cho mỗi categories \n",
    "df = data.loc[data['categories']==categories[0]].sample(250)\n",
    "for i in range(1,len(categories)):\n",
    "    df = pd.concat([df, data.loc[data['categories']==categories[i]].sample(250)])\n",
    "\n",
    "df = df.reset_index().drop('index',axis=1)\n",
    "print(f'Dataset size: {len(df)}')\n",
    "df.sample(3)"
   ]
  },
  {
   "cell_type": "code",
   "execution_count": 19,
   "id": "60242d29",
   "metadata": {
    "execution": {
     "iopub.execute_input": "2022-10-05T11:01:01.064069Z",
     "iopub.status.busy": "2022-10-05T11:01:01.063637Z",
     "iopub.status.idle": "2022-10-05T11:01:01.140310Z",
     "shell.execute_reply": "2022-10-05T11:01:01.139242Z"
    },
    "papermill": {
     "duration": 0.105197,
     "end_time": "2022-10-05T11:01:01.143136",
     "exception": false,
     "start_time": "2022-10-05T11:01:01.037939",
     "status": "completed"
    },
    "tags": []
   },
   "outputs": [],
   "source": [
    "df.to_csv('data_amazon_small.csv')"
   ]
  },
  {
   "cell_type": "markdown",
   "id": "f5c07516",
   "metadata": {
    "papermill": {
     "duration": 0.02409,
     "end_time": "2022-10-05T11:01:01.191641",
     "exception": false,
     "start_time": "2022-10-05T11:01:01.167551",
     "status": "completed"
    },
    "tags": []
   },
   "source": [
    "# **Part II**: Tiến hành chuyển ảnh sang dạng arrays và lưu lại\n",
    "\n",
    "**Gồm 2 file: 1 file lưu giá trị label, 1 file là array ảnh**"
   ]
  },
  {
   "cell_type": "markdown",
   "id": "eb6d0fd0",
   "metadata": {
    "papermill": {
     "duration": 0.023829,
     "end_time": "2022-10-05T11:01:01.240091",
     "exception": false,
     "start_time": "2022-10-05T11:01:01.216262",
     "status": "completed"
    },
    "tags": []
   },
   "source": [
    "## **Display image the actual image**"
   ]
  },
  {
   "cell_type": "code",
   "execution_count": 20,
   "id": "7169d78f",
   "metadata": {
    "execution": {
     "iopub.execute_input": "2022-10-05T11:01:01.290837Z",
     "iopub.status.busy": "2022-10-05T11:01:01.290091Z",
     "iopub.status.idle": "2022-10-05T11:01:01.295564Z",
     "shell.execute_reply": "2022-10-05T11:01:01.294798Z"
    },
    "papermill": {
     "duration": 0.033685,
     "end_time": "2022-10-05T11:01:01.298086",
     "exception": false,
     "start_time": "2022-10-05T11:01:01.264401",
     "status": "completed"
    },
    "tags": []
   },
   "outputs": [],
   "source": [
    "def display_img(url):\n",
    "    \"\"\"\n",
    "    This functions takes the image url and return the picture of the image\n",
    "    \"\"\"\n",
    "    # we get the url of the apparel and download it\n",
    "    response = requests.get(url)\n",
    "    img = Image.open(BytesIO(response.content))\n",
    "    # we will display it in notebook \n",
    "    plt.imshow(img)\n",
    "    plt.show()"
   ]
  },
  {
   "cell_type": "code",
   "execution_count": 21,
   "id": "96d5d91c",
   "metadata": {
    "execution": {
     "iopub.execute_input": "2022-10-05T11:01:01.350324Z",
     "iopub.status.busy": "2022-10-05T11:01:01.349012Z",
     "iopub.status.idle": "2022-10-05T11:01:03.851248Z",
     "shell.execute_reply": "2022-10-05T11:01:03.850353Z"
    },
    "papermill": {
     "duration": 2.531056,
     "end_time": "2022-10-05T11:01:03.853698",
     "exception": false,
     "start_time": "2022-10-05T11:01:01.322642",
     "status": "completed"
    },
    "tags": []
   },
   "outputs": [
    {
     "name": "stdout",
     "output_type": "stream",
     "text": [
      "Musical Instruments\n"
     ]
    },
    {
     "data": {
      "image/png": "[encoded data removed]",
      "text/plain": [
       "<Figure size 432x288 with 1 Axes>"
      ]
     },
     "metadata": {
      "needs_background": "light"
     },
     "output_type": "display_data"
    },
    {
     "name": "stdout",
     "output_type": "stream",
     "text": [
      "Musical Instruments\n"
     ]
    },
    {
     "data": {
      "image/png": "[encoded data removed]",
      "text/plain": [
       "<Figure size 432x288 with 1 Axes>"
      ]
     },
     "metadata": {
      "needs_background": "light"
     },
     "output_type": "display_data"
    },
    {
     "name": "stdout",
     "output_type": "stream",
     "text": [
      "Musical Instruments\n"
     ]
    },
    {
     "data": {
      "image/png": "[encoded data removed]",
      "text/plain": [
       "<Figure size 432x288 with 1 Axes>"
      ]
     },
     "metadata": {
      "needs_background": "light"
     },
     "output_type": "display_data"
    },
    {
     "name": "stdout",
     "output_type": "stream",
     "text": [
      "Musical Instruments\n"
     ]
    },
    {
     "data": {
      "image/png": "[encoded data removed]",
      "text/plain": [
       "<Figure size 432x288 with 1 Axes>"
      ]
     },
     "metadata": {
      "needs_background": "light"
     },
     "output_type": "display_data"
    },
    {
     "name": "stdout",
     "output_type": "stream",
     "text": [
      "Musical Instruments\n"
     ]
    },
    {
     "data": {
      "image/png": "[encoded data removed]",
      "text/plain": [
       "<Figure size 432x288 with 1 Axes>"
      ]
     },
     "metadata": {
      "needs_background": "light"
     },
     "output_type": "display_data"
    }
   ],
   "source": [
    "for i in range(3000,3005):\n",
    "    print(df['categories'][i])\n",
    "    display_img(df['imUrl'][i])"
   ]
  },
  {
   "cell_type": "code",
   "execution_count": 22,
   "id": "7f6d8a9f",
   "metadata": {
    "execution": {
     "iopub.execute_input": "2022-10-05T11:01:03.916866Z",
     "iopub.status.busy": "2022-10-05T11:01:03.916107Z",
     "iopub.status.idle": "2022-10-05T11:01:03.922643Z",
     "shell.execute_reply": "2022-10-05T11:01:03.921795Z"
    },
    "papermill": {
     "duration": 0.040024,
     "end_time": "2022-10-05T11:01:03.925314",
     "exception": false,
     "start_time": "2022-10-05T11:01:03.885290",
     "status": "completed"
    },
    "tags": []
   },
   "outputs": [],
   "source": [
    "def img_array(img):   \n",
    "    \"\"\"\n",
    "    This function takes in an image and converts the image to an array after resizing\n",
    "  \n",
    "    \"\"\"\n",
    "    response = urllib.request.urlopen(img)\n",
    "    image = np.asarray(bytearray(response.read()), dtype=\"uint8\") \n",
    "    image_bgr = cv2.imdecode(image, cv2.IMREAD_COLOR)\n",
    "    image_bgr = cv2.resize(image_bgr, (224,224)) # resizing all images to one size \n",
    "    image_rgb = cv2.cvtColor(image_bgr, cv2.COLOR_BGR2RGB)\n",
    "    return image_rgb"
   ]
  },
  {
   "cell_type": "code",
   "execution_count": 23,
   "id": "9a6521e7",
   "metadata": {
    "execution": {
     "iopub.execute_input": "2022-10-05T11:01:03.985281Z",
     "iopub.status.busy": "2022-10-05T11:01:03.984848Z",
     "iopub.status.idle": "2022-10-05T11:01:04.042084Z",
     "shell.execute_reply": "2022-10-05T11:01:04.041277Z"
    },
    "papermill": {
     "duration": 0.091146,
     "end_time": "2022-10-05T11:01:04.045534",
     "exception": false,
     "start_time": "2022-10-05T11:01:03.954388",
     "status": "completed"
    },
    "tags": []
   },
   "outputs": [
    {
     "name": "stderr",
     "output_type": "stream",
     "text": [
      "/opt/conda/lib/python3.7/site-packages/ipykernel_launcher.py:3: SettingWithCopyWarning: \n",
      "A value is trying to be set on a copy of a slice from a DataFrame\n",
      "\n",
      "See the caveats in the documentation: https://pandas.pydata.org/pandas-docs/stable/user_guide/indexing.html#returning-a-view-versus-a-copy\n",
      "  This is separate from the ipykernel package so we can avoid doing imports until\n"
     ]
    }
   ],
   "source": [
    "# Converting the response variable into numbers\n",
    "for i in range(0,len(categories)):\n",
    "    df['categories'][df['categories']== categories[i]]= i\n",
    "    \n",
    "df['categories']=df['categories'].astype(int)"
   ]
  },
  {
   "cell_type": "code",
   "execution_count": 24,
   "id": "165e38e4",
   "metadata": {
    "execution": {
     "iopub.execute_input": "2022-10-05T11:01:04.107829Z",
     "iopub.status.busy": "2022-10-05T11:01:04.106905Z",
     "iopub.status.idle": "2022-10-05T11:22:14.803669Z",
     "shell.execute_reply": "2022-10-05T11:22:14.801225Z"
    },
    "papermill": {
     "duration": 1270.731819,
     "end_time": "2022-10-05T11:22:14.808015",
     "exception": false,
     "start_time": "2022-10-05T11:01:04.076196",
     "status": "completed"
    },
    "tags": []
   },
   "outputs": [
    {
     "name": "stdout",
     "output_type": "stream",
     "text": [
      "sucessful:1000\n",
      "sucessful:2000\n",
      "sucessful:3000\n",
      "sucessful:4000\n",
      "sucessful:5000\n"
     ]
    }
   ],
   "source": [
    "label = np.array(df['categories'])\n",
    "list_img = list(df['imUrl'])\n",
    "\n",
    "image_array=[]\n",
    "label_array=[]\n",
    "for i in range(0,6000):\n",
    "    try: \n",
    "        if i in range(1000,7000,1000):\n",
    "            print(\"sucessful:\"+ str(i))\n",
    "        image_array.append(img_array(list_img[i]))\n",
    "        label_array.append(label[i])\n",
    "        \n",
    "    except:\n",
    "        continue\n",
    "        \n",
    "label_array=np.array(label_array)\n",
    "image_array=np.array(image_array)"
   ]
  },
  {
   "cell_type": "code",
   "execution_count": 25,
   "id": "39da40da",
   "metadata": {
    "execution": {
     "iopub.execute_input": "2022-10-05T11:22:14.884811Z",
     "iopub.status.busy": "2022-10-05T11:22:14.884192Z",
     "iopub.status.idle": "2022-10-05T11:22:16.081646Z",
     "shell.execute_reply": "2022-10-05T11:22:16.080528Z"
    },
    "papermill": {
     "duration": 1.238112,
     "end_time": "2022-10-05T11:22:16.084579",
     "exception": false,
     "start_time": "2022-10-05T11:22:14.846467",
     "status": "completed"
    },
    "tags": []
   },
   "outputs": [],
   "source": [
    "np.save('label_array',label_array)\n",
    "np.save('image_array',image_array)"
   ]
  }
 ],
 "metadata": {
  "kernelspec": {
   "display_name": "Python 3",
   "language": "python",
   "name": "python3"
  },
  "language_info": {
   "codemirror_mode": {
    "name": "ipython",
    "version": 3
   },
   "file_extension": ".py",
   "mimetype": "text/x-python",
   "name": "python",
   "nbconvert_exporter": "python",
   "pygments_lexer": "ipython3",
   "version": "3.7.12"
  },
  "papermill": {
   "default_parameters": {},
   "duration": 1368.514186,
   "end_time": "2022-10-05T11:22:18.046517",
   "environment_variables": {},
   "exception": null,
   "input_path": "__notebook__.ipynb",
   "output_path": "__notebook__.ipynb",
   "parameters": {},
   "start_time": "2022-10-05T10:59:29.532331",
   "version": "2.3.4"
  }
 },
 "nbformat": 4,
 "nbformat_minor": 5
}
